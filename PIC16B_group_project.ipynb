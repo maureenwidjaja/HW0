{
  "nbformat": 4,
  "nbformat_minor": 0,
  "metadata": {
    "colab": {
      "provenance": [],
      "include_colab_link": true
    },
    "kernelspec": {
      "name": "python3",
      "display_name": "Python 3"
    },
    "language_info": {
      "name": "python"
    }
  },
  "cells": [
    {
      "cell_type": "markdown",
      "metadata": {
        "id": "view-in-github",
        "colab_type": "text"
      },
      "source": [
        "<a href=\"https://colab.research.google.com/github/maureenwidjaja/HW0/blob/main/PIC16B_group_project.ipynb\" target=\"_parent\"><img src=\"https://colab.research.google.com/assets/colab-badge.svg\" alt=\"Open In Colab\"/></a>"
      ]
    },
    {
      "cell_type": "markdown",
      "source": [
        "# Step 1: Scrape Books Using Open Library API\n",
        "- get by 'Subject' name ->> can be anything, e.g. \"fantasy\" etc.\n",
        "\n"
      ],
      "metadata": {
        "id": "V6SXWqgrdAI-"
      }
    },
    {
      "cell_type": "code",
      "execution_count": null,
      "metadata": {
        "id": "3cfBooOJcRHn"
      },
      "outputs": [],
      "source": [
        "import requests\n",
        "import matplotlib.pyplot as plt\n",
        "import seaborn as sns\n",
        "import json\n",
        "import pandas as pd\n",
        "import numpy as np"
      ]
    },
    {
      "cell_type": "code",
      "source": [
        "import requests\n",
        "\n",
        "def get_books_by_subject(subject, limit=10, details=True, ebooks=False, published_in=None, offset=0):\n",
        "    '''\n",
        "    Args:\n",
        "    details: if True, includes related subjects, prolific authors, and publishers.\n",
        "    ebooks: if True,  filters for books with e-books.\n",
        "    published_in: filters by publication year.\n",
        "                  For example:\n",
        "                  http://openlibrary.org/subjects/love.json?published_in=1500-1600\n",
        "    limit: num of works to include in the response, controls pagination.\n",
        "    offset: starting offset in the total works, controls pagination.\n",
        "    '''\n",
        "\n",
        "    # Creates the API endpoint URL using the subject provided.\n",
        "    base_url = f\"https://openlibrary.org/subjects/{subject}.json\"\n",
        "\n",
        "    # Dict to store query parameters.\n",
        "    params = {\n",
        "        \"limit\": limit,\n",
        "        \"offset\": offset\n",
        "    }\n",
        "\n",
        "    # Check if details are \"true\", it will be added to the API request\n",
        "    if details:\n",
        "        params[\"details\"] = \"true\"\n",
        "    if ebooks:\n",
        "        params[\"ebooks\"] = \"true\"\n",
        "    if published_in:\n",
        "        params[\"published_in\"] = published_in  # Example: \"2000-2020\"\n",
        "\n",
        "    # Sends an HTTP GET request to Open Library's API with the query parameters\n",
        "    # stored in params.\n",
        "    # The response is stored in response, which contains JSON data.\n",
        "    response = requests.get(base_url, params=params)\n",
        "\n",
        "    # Checks if the request was successful\n",
        "    if response.status_code == 200:\n",
        "      data = response.json()\n",
        "      # Retrieves the list of books (works).\n",
        "      # If missing, returns an empty list.\n",
        "      books = data.get(\"works\", [])\n",
        "\n",
        "    if not books:\n",
        "      print(\"No books found for this subject.\")\n",
        "      return\n",
        "\n",
        "    # Extract start and end year if range is given\n",
        "    start_year, end_year = None, None\n",
        "    if published_in and \"-\" in published_in:\n",
        "      # convert string into two integers, e.g: 1900 and 2000.\n",
        "      start_year, end_year = map(int, published_in.split(\"-\"))\n",
        "\n",
        "      print(f\"Top {limit} books in {subject}:\")\n",
        "      for book in books:\n",
        "        title = book.get(\"title\", \"Unknown Title\")\n",
        "        # Get author's first name\n",
        "        author = book[\"authors\"][0][\"name\"] if \"authors\" in book else \"Unknown Author\"\n",
        "        published_year = book.get(\"first_publish_year\", \"Unknown Year\")\n",
        "\n",
        "        # Ensure published year is an integer before filtering\n",
        "        if isinstance(published_year, int) and start_year and end_year:\n",
        "        # Ensure book publication is between range\n",
        "          if not (start_year <= published_year <= end_year):\n",
        "            continue  # Skip books outside the range\n",
        "\n",
        "        print(f\"- {title} by {author} ({published_year})\")\n",
        "\n",
        "        # Display additional details\n",
        "        '''\n",
        "        if details:\n",
        "          print(\"\\nRelated Subjects:\", data.get(\"related_subjects\", []))\n",
        "          print(\"Prolific Authors:\", [author[\"name\"] for author in data.get(\"prolific_authors\", [])])\n",
        "          publish_history = data.get(\"publishing_history\")\n",
        "          for year, count in publish_history:\n",
        "            print(f\"\\nPublishing History: - {year}: {count} book(s)\")\n",
        "        '''\n",
        "    else:\n",
        "      print(\"Failed to retrieve data\")\n",
        "\n",
        "# Example: Get 5 books on 'love' published between 1900 and 2000\n",
        "get_books_by_subject(\"love\", limit=5, details=True, published_in=\"1900-2000\")\n"
      ],
      "metadata": {
        "colab": {
          "base_uri": "https://localhost:8080/"
        },
        "id": "1TLeu2GJc-RB",
        "outputId": "e596ed34-9cc7-4e76-a71a-989afb89522f"
      },
      "execution_count": null,
      "outputs": [
        {
          "output_type": "stream",
          "name": "stdout",
          "text": [
            "Top 5 books in love:\n",
            "- The Great Gatsby by F. Scott Fitzgerald (1920)\n",
            "- Ethan Frome by Edith Wharton (1910)\n"
          ]
        }
      ]
    },
    {
      "cell_type": "code",
      "source": [
        "page = requests.get('https://api-web.nhle.com/v1/player/8478550/game-log/20242025/2')\n",
        "info = page.text\n",
        "response = json.loads(info)"
      ],
      "metadata": {
        "id": "tIcJxamugJEo"
      },
      "execution_count": null,
      "outputs": []
    },
    {
      "cell_type": "code",
      "source": [],
      "metadata": {
        "id": "NYQis-i6ndQL"
      },
      "execution_count": null,
      "outputs": []
    },
    {
      "cell_type": "markdown",
      "source": [
        "# What to do next:\n",
        "1. Build ML model\n",
        "  - training data: csv file containing books in a specific genre?\n",
        "  - testing data: our prediction now?\n",
        "\n",
        "2. Approaches to consider:\n",
        "  - Collaborative Filtering (based on user ratings, user reviews e.g. Goodreads)\n",
        "  - Content-Based Filtering (based on genre, content description, etc.)\n",
        "  - Combination of both Filtering Methods\n",
        "\n",
        "3. Define Training Data\n",
        "  - What should the csv file include?\n",
        "    1. Book Information: Book ID, Title, Author, Genres, Description\n",
        "    2. User Ratings: User ID, Book ID, Rating, User Reviews\n",
        "\n",
        "4. Machine Learning Models to consider:\n",
        "  - Content-Based Filtering: Book descriptions and genres\n",
        "      - TF-IDF (Term Frequency-Inverse Document Frequency): evaluates the importance of a word in a document : https://www.geeksforgeeks.org/understanding-tf-idf-term-frequency-inverse-document-frequency/\n",
        "      - Sci-Kit Learn: classifiers, feature-extraction\n",
        "  - Collaborative Filtering: User ratings and reviews\n",
        "      - Single Value Decomposition (SVD): can decompose a matrix into 3 matrices, good for ratings: https://www.geeksforgeeks.org/singular-value-decomposition-svd/\n",
        "  - From surprise: https://surpriselib.com/\n",
        "\n",
        "\n",
        "5. Hybrid model\n",
        "  - Step 1: Get the top books for the user through collaborative filtering\n",
        "  - Step 2: Find the most similar books through content based filtering\n",
        "  - Step 3: Return the list of recommended books\n",
        "\n"
      ],
      "metadata": {
        "id": "HR4rZxUZpVip"
      }
    },
    {
      "cell_type": "code",
      "source": [
        "# create dataframe (csv file) of books\n"
      ],
      "metadata": {
        "id": "tGkFgL_EdXuG"
      },
      "execution_count": null,
      "outputs": []
    },
    {
      "cell_type": "code",
      "source": [
        "# import SVD, import test train split\n",
        "from surprise import SVD\n",
        "from surprise.model_selection import test_train_split"
      ],
      "metadata": {
        "id": "zd3enYEiObCu"
      },
      "execution_count": null,
      "outputs": []
    }
  ]
}