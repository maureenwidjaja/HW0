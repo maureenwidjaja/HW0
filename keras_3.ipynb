{
  "cells": [
    {
      "cell_type": "markdown",
      "metadata": {
        "id": "view-in-github",
        "colab_type": "text"
      },
      "source": [
        "<a href=\"https://colab.research.google.com/github/maureenwidjaja/HW0/blob/main/keras_3.ipynb\" target=\"_parent\"><img src=\"https://colab.research.google.com/assets/colab-badge.svg\" alt=\"Open In Colab\"/></a>"
      ]
    },
    {
      "cell_type": "markdown",
      "metadata": {
        "id": "operational-party"
      },
      "source": [
        "# Text Classification and Word Embedding\n",
        "\n",
        "In this set of notes, we'll discuss the problem of *text classification*. Text classification is a common problem in which we aim to classify pieces of text into different categories. These categories might be about:\n",
        "\n",
        "- **Subject matter**: news, fashion, finance?\n",
        "- **Emotional valence**: Happy or sad? Excited or calm? This particular class of questions is so important that it has its own name: *sentiment analysis.*\n",
        "- **Automated content moderation**: Facebook comment / reddit thread abuse / harassment? promoting violence? spam?\n",
        "- **AI-Generated** : ChatGPT or not?\n",
        "\n",
        "Today, we will do simple example of subject matter classification. We'll also do some sentiment analysis later.\n",
        "\n",
        "\n",
        "### Bias in Natural Language Processing\n",
        "\n",
        "Like all other machine learning algorithms, natural language algorithms naturally inherit the biases of both the data on which they are trained and the choices made by researchers in training the algorithms. A sub-theme of this set of lectures is the need to carefully check our model outputs so that we can understand the impact of each of these.\n",
        "\n",
        "#### Supplementary Materials\n",
        "\n",
        "- [Term-document matrices](https://nbviewer.jupyter.org/github/PhilChodrow/PIC16A/blob/master/content/NLP/NLP_1.ipynb).\n",
        "- [Sentiment analysis](https://nbviewer.jupyter.org/github/PhilChodrow/PIC16A/blob/master/content/NLP/NLP_3.ipynb).\n",
        "\n",
        "#### Related Resources\n",
        "\n",
        "- This set of lecture notes is partially based on this [official tutorial](https://www.tensorflow.org/tutorials/keras/text_classification).\n"
      ],
      "id": "operational-party"
    },
    {
      "cell_type": "markdown",
      "source": [
        "One thing we will _not_ do today is using the JAX backend. While JAX can be faster in many tasks, it does not support strings. We will use TensorFlow backend instead."
      ],
      "metadata": {
        "id": "T3WCPXGpYkIL"
      },
      "id": "T3WCPXGpYkIL"
    },
    {
      "cell_type": "code",
      "source": [
        "import os\n",
        "os.environ[\"KERAS_BACKEND\"] = \"tensorflow\""
      ],
      "metadata": {
        "id": "hdxXiH-vYibM"
      },
      "id": "hdxXiH-vYibM",
      "execution_count": 1,
      "outputs": []
    },
    {
      "cell_type": "code",
      "execution_count": 2,
      "metadata": {
        "id": "documentary-chambers"
      },
      "outputs": [],
      "source": [
        "import numpy as np\n",
        "import pandas as pd\n",
        "import re\n",
        "import string\n",
        "import keras\n",
        "from keras import layers, losses\n",
        "from keras.layers import TextVectorization\n",
        "\n",
        "from sklearn.model_selection import train_test_split\n",
        "from sklearn.preprocessing import LabelEncoder\n",
        "\n",
        "# for embedding viz\n",
        "import plotly.express as px\n",
        "import plotly.io as pio\n",
        "pio.templates.default = \"plotly_white\"\n",
        "from keras import models"
      ],
      "id": "documentary-chambers"
    },
    {
      "cell_type": "markdown",
      "metadata": {
        "id": "above-youth"
      },
      "source": [
        "For this example, we are going to use a data set containing headlines from a large number of different news articles on the website [HuffPost](https://www.huffpost.com/) retrieved [from Kaggle](https://www.kaggle.com/rmisra/news-category-dataset)."
      ],
      "id": "above-youth"
    },
    {
      "cell_type": "code",
      "execution_count": 3,
      "metadata": {
        "id": "desirable-roads"
      },
      "outputs": [],
      "source": [
        "url = \"https://raw.githubusercontent.com/pic16b-ucla/25W/master/datasets/news/News_Category_Dataset_v2.json\"\n",
        "df  = pd.read_json(url, lines=True)\n",
        "df  = df[[\"category\", \"headline\"]]"
      ],
      "id": "desirable-roads"
    },
    {
      "cell_type": "code",
      "source": [
        "df"
      ],
      "metadata": {
        "id": "dxWUfca4OQj9",
        "outputId": "c6b1129b-fd01-440c-e150-4ed817c0fa9b",
        "colab": {
          "base_uri": "https://localhost:8080/",
          "height": 424
        }
      },
      "id": "dxWUfca4OQj9",
      "execution_count": 4,
      "outputs": [
        {
          "output_type": "execute_result",
          "data": {
            "text/plain": [
              "             category                                           headline\n",
              "0               CRIME  There Were 2 Mass Shootings In Texas Last Week...\n",
              "1       ENTERTAINMENT  Will Smith Joins Diplo And Nicky Jam For The 2...\n",
              "2       ENTERTAINMENT    Hugh Grant Marries For The First Time At Age 57\n",
              "3       ENTERTAINMENT  Jim Carrey Blasts 'Castrato' Adam Schiff And D...\n",
              "4       ENTERTAINMENT  Julianna Margulies Uses Donald Trump Poop Bags...\n",
              "...               ...                                                ...\n",
              "200848           TECH  RIM CEO Thorsten Heins' 'Significant' Plans Fo...\n",
              "200849         SPORTS  Maria Sharapova Stunned By Victoria Azarenka I...\n",
              "200850         SPORTS  Giants Over Patriots, Jets Over Colts Among  M...\n",
              "200851         SPORTS  Aldon Smith Arrested: 49ers Linebacker Busted ...\n",
              "200852         SPORTS  Dwight Howard Rips Teammates After Magic Loss ...\n",
              "\n",
              "[200853 rows x 2 columns]"
            ],
            "text/html": [
              "\n",
              "  <div id=\"df-982373e1-f6a0-4ac4-930d-3788042fc24c\" class=\"colab-df-container\">\n",
              "    <div>\n",
              "<style scoped>\n",
              "    .dataframe tbody tr th:only-of-type {\n",
              "        vertical-align: middle;\n",
              "    }\n",
              "\n",
              "    .dataframe tbody tr th {\n",
              "        vertical-align: top;\n",
              "    }\n",
              "\n",
              "    .dataframe thead th {\n",
              "        text-align: right;\n",
              "    }\n",
              "</style>\n",
              "<table border=\"1\" class=\"dataframe\">\n",
              "  <thead>\n",
              "    <tr style=\"text-align: right;\">\n",
              "      <th></th>\n",
              "      <th>category</th>\n",
              "      <th>headline</th>\n",
              "    </tr>\n",
              "  </thead>\n",
              "  <tbody>\n",
              "    <tr>\n",
              "      <th>0</th>\n",
              "      <td>CRIME</td>\n",
              "      <td>There Were 2 Mass Shootings In Texas Last Week...</td>\n",
              "    </tr>\n",
              "    <tr>\n",
              "      <th>1</th>\n",
              "      <td>ENTERTAINMENT</td>\n",
              "      <td>Will Smith Joins Diplo And Nicky Jam For The 2...</td>\n",
              "    </tr>\n",
              "    <tr>\n",
              "      <th>2</th>\n",
              "      <td>ENTERTAINMENT</td>\n",
              "      <td>Hugh Grant Marries For The First Time At Age 57</td>\n",
              "    </tr>\n",
              "    <tr>\n",
              "      <th>3</th>\n",
              "      <td>ENTERTAINMENT</td>\n",
              "      <td>Jim Carrey Blasts 'Castrato' Adam Schiff And D...</td>\n",
              "    </tr>\n",
              "    <tr>\n",
              "      <th>4</th>\n",
              "      <td>ENTERTAINMENT</td>\n",
              "      <td>Julianna Margulies Uses Donald Trump Poop Bags...</td>\n",
              "    </tr>\n",
              "    <tr>\n",
              "      <th>...</th>\n",
              "      <td>...</td>\n",
              "      <td>...</td>\n",
              "    </tr>\n",
              "    <tr>\n",
              "      <th>200848</th>\n",
              "      <td>TECH</td>\n",
              "      <td>RIM CEO Thorsten Heins' 'Significant' Plans Fo...</td>\n",
              "    </tr>\n",
              "    <tr>\n",
              "      <th>200849</th>\n",
              "      <td>SPORTS</td>\n",
              "      <td>Maria Sharapova Stunned By Victoria Azarenka I...</td>\n",
              "    </tr>\n",
              "    <tr>\n",
              "      <th>200850</th>\n",
              "      <td>SPORTS</td>\n",
              "      <td>Giants Over Patriots, Jets Over Colts Among  M...</td>\n",
              "    </tr>\n",
              "    <tr>\n",
              "      <th>200851</th>\n",
              "      <td>SPORTS</td>\n",
              "      <td>Aldon Smith Arrested: 49ers Linebacker Busted ...</td>\n",
              "    </tr>\n",
              "    <tr>\n",
              "      <th>200852</th>\n",
              "      <td>SPORTS</td>\n",
              "      <td>Dwight Howard Rips Teammates After Magic Loss ...</td>\n",
              "    </tr>\n",
              "  </tbody>\n",
              "</table>\n",
              "<p>200853 rows × 2 columns</p>\n",
              "</div>\n",
              "    <div class=\"colab-df-buttons\">\n",
              "\n",
              "  <div class=\"colab-df-container\">\n",
              "    <button class=\"colab-df-convert\" onclick=\"convertToInteractive('df-982373e1-f6a0-4ac4-930d-3788042fc24c')\"\n",
              "            title=\"Convert this dataframe to an interactive table.\"\n",
              "            style=\"display:none;\">\n",
              "\n",
              "  <svg xmlns=\"http://www.w3.org/2000/svg\" height=\"24px\" viewBox=\"0 -960 960 960\">\n",
              "    <path d=\"M120-120v-720h720v720H120Zm60-500h600v-160H180v160Zm220 220h160v-160H400v160Zm0 220h160v-160H400v160ZM180-400h160v-160H180v160Zm440 0h160v-160H620v160ZM180-180h160v-160H180v160Zm440 0h160v-160H620v160Z\"/>\n",
              "  </svg>\n",
              "    </button>\n",
              "\n",
              "  <style>\n",
              "    .colab-df-container {\n",
              "      display:flex;\n",
              "      gap: 12px;\n",
              "    }\n",
              "\n",
              "    .colab-df-convert {\n",
              "      background-color: #E8F0FE;\n",
              "      border: none;\n",
              "      border-radius: 50%;\n",
              "      cursor: pointer;\n",
              "      display: none;\n",
              "      fill: #1967D2;\n",
              "      height: 32px;\n",
              "      padding: 0 0 0 0;\n",
              "      width: 32px;\n",
              "    }\n",
              "\n",
              "    .colab-df-convert:hover {\n",
              "      background-color: #E2EBFA;\n",
              "      box-shadow: 0px 1px 2px rgba(60, 64, 67, 0.3), 0px 1px 3px 1px rgba(60, 64, 67, 0.15);\n",
              "      fill: #174EA6;\n",
              "    }\n",
              "\n",
              "    .colab-df-buttons div {\n",
              "      margin-bottom: 4px;\n",
              "    }\n",
              "\n",
              "    [theme=dark] .colab-df-convert {\n",
              "      background-color: #3B4455;\n",
              "      fill: #D2E3FC;\n",
              "    }\n",
              "\n",
              "    [theme=dark] .colab-df-convert:hover {\n",
              "      background-color: #434B5C;\n",
              "      box-shadow: 0px 1px 3px 1px rgba(0, 0, 0, 0.15);\n",
              "      filter: drop-shadow(0px 1px 2px rgba(0, 0, 0, 0.3));\n",
              "      fill: #FFFFFF;\n",
              "    }\n",
              "  </style>\n",
              "\n",
              "    <script>\n",
              "      const buttonEl =\n",
              "        document.querySelector('#df-982373e1-f6a0-4ac4-930d-3788042fc24c button.colab-df-convert');\n",
              "      buttonEl.style.display =\n",
              "        google.colab.kernel.accessAllowed ? 'block' : 'none';\n",
              "\n",
              "      async function convertToInteractive(key) {\n",
              "        const element = document.querySelector('#df-982373e1-f6a0-4ac4-930d-3788042fc24c');\n",
              "        const dataTable =\n",
              "          await google.colab.kernel.invokeFunction('convertToInteractive',\n",
              "                                                    [key], {});\n",
              "        if (!dataTable) return;\n",
              "\n",
              "        const docLinkHtml = 'Like what you see? Visit the ' +\n",
              "          '<a target=\"_blank\" href=https://colab.research.google.com/notebooks/data_table.ipynb>data table notebook</a>'\n",
              "          + ' to learn more about interactive tables.';\n",
              "        element.innerHTML = '';\n",
              "        dataTable['output_type'] = 'display_data';\n",
              "        await google.colab.output.renderOutput(dataTable, element);\n",
              "        const docLink = document.createElement('div');\n",
              "        docLink.innerHTML = docLinkHtml;\n",
              "        element.appendChild(docLink);\n",
              "      }\n",
              "    </script>\n",
              "  </div>\n",
              "\n",
              "\n",
              "<div id=\"df-ab813722-06d0-4f33-9ff1-dfdcea0b4e3a\">\n",
              "  <button class=\"colab-df-quickchart\" onclick=\"quickchart('df-ab813722-06d0-4f33-9ff1-dfdcea0b4e3a')\"\n",
              "            title=\"Suggest charts\"\n",
              "            style=\"display:none;\">\n",
              "\n",
              "<svg xmlns=\"http://www.w3.org/2000/svg\" height=\"24px\"viewBox=\"0 0 24 24\"\n",
              "     width=\"24px\">\n",
              "    <g>\n",
              "        <path d=\"M19 3H5c-1.1 0-2 .9-2 2v14c0 1.1.9 2 2 2h14c1.1 0 2-.9 2-2V5c0-1.1-.9-2-2-2zM9 17H7v-7h2v7zm4 0h-2V7h2v10zm4 0h-2v-4h2v4z\"/>\n",
              "    </g>\n",
              "</svg>\n",
              "  </button>\n",
              "\n",
              "<style>\n",
              "  .colab-df-quickchart {\n",
              "      --bg-color: #E8F0FE;\n",
              "      --fill-color: #1967D2;\n",
              "      --hover-bg-color: #E2EBFA;\n",
              "      --hover-fill-color: #174EA6;\n",
              "      --disabled-fill-color: #AAA;\n",
              "      --disabled-bg-color: #DDD;\n",
              "  }\n",
              "\n",
              "  [theme=dark] .colab-df-quickchart {\n",
              "      --bg-color: #3B4455;\n",
              "      --fill-color: #D2E3FC;\n",
              "      --hover-bg-color: #434B5C;\n",
              "      --hover-fill-color: #FFFFFF;\n",
              "      --disabled-bg-color: #3B4455;\n",
              "      --disabled-fill-color: #666;\n",
              "  }\n",
              "\n",
              "  .colab-df-quickchart {\n",
              "    background-color: var(--bg-color);\n",
              "    border: none;\n",
              "    border-radius: 50%;\n",
              "    cursor: pointer;\n",
              "    display: none;\n",
              "    fill: var(--fill-color);\n",
              "    height: 32px;\n",
              "    padding: 0;\n",
              "    width: 32px;\n",
              "  }\n",
              "\n",
              "  .colab-df-quickchart:hover {\n",
              "    background-color: var(--hover-bg-color);\n",
              "    box-shadow: 0 1px 2px rgba(60, 64, 67, 0.3), 0 1px 3px 1px rgba(60, 64, 67, 0.15);\n",
              "    fill: var(--button-hover-fill-color);\n",
              "  }\n",
              "\n",
              "  .colab-df-quickchart-complete:disabled,\n",
              "  .colab-df-quickchart-complete:disabled:hover {\n",
              "    background-color: var(--disabled-bg-color);\n",
              "    fill: var(--disabled-fill-color);\n",
              "    box-shadow: none;\n",
              "  }\n",
              "\n",
              "  .colab-df-spinner {\n",
              "    border: 2px solid var(--fill-color);\n",
              "    border-color: transparent;\n",
              "    border-bottom-color: var(--fill-color);\n",
              "    animation:\n",
              "      spin 1s steps(1) infinite;\n",
              "  }\n",
              "\n",
              "  @keyframes spin {\n",
              "    0% {\n",
              "      border-color: transparent;\n",
              "      border-bottom-color: var(--fill-color);\n",
              "      border-left-color: var(--fill-color);\n",
              "    }\n",
              "    20% {\n",
              "      border-color: transparent;\n",
              "      border-left-color: var(--fill-color);\n",
              "      border-top-color: var(--fill-color);\n",
              "    }\n",
              "    30% {\n",
              "      border-color: transparent;\n",
              "      border-left-color: var(--fill-color);\n",
              "      border-top-color: var(--fill-color);\n",
              "      border-right-color: var(--fill-color);\n",
              "    }\n",
              "    40% {\n",
              "      border-color: transparent;\n",
              "      border-right-color: var(--fill-color);\n",
              "      border-top-color: var(--fill-color);\n",
              "    }\n",
              "    60% {\n",
              "      border-color: transparent;\n",
              "      border-right-color: var(--fill-color);\n",
              "    }\n",
              "    80% {\n",
              "      border-color: transparent;\n",
              "      border-right-color: var(--fill-color);\n",
              "      border-bottom-color: var(--fill-color);\n",
              "    }\n",
              "    90% {\n",
              "      border-color: transparent;\n",
              "      border-bottom-color: var(--fill-color);\n",
              "    }\n",
              "  }\n",
              "</style>\n",
              "\n",
              "  <script>\n",
              "    async function quickchart(key) {\n",
              "      const quickchartButtonEl =\n",
              "        document.querySelector('#' + key + ' button');\n",
              "      quickchartButtonEl.disabled = true;  // To prevent multiple clicks.\n",
              "      quickchartButtonEl.classList.add('colab-df-spinner');\n",
              "      try {\n",
              "        const charts = await google.colab.kernel.invokeFunction(\n",
              "            'suggestCharts', [key], {});\n",
              "      } catch (error) {\n",
              "        console.error('Error during call to suggestCharts:', error);\n",
              "      }\n",
              "      quickchartButtonEl.classList.remove('colab-df-spinner');\n",
              "      quickchartButtonEl.classList.add('colab-df-quickchart-complete');\n",
              "    }\n",
              "    (() => {\n",
              "      let quickchartButtonEl =\n",
              "        document.querySelector('#df-ab813722-06d0-4f33-9ff1-dfdcea0b4e3a button');\n",
              "      quickchartButtonEl.style.display =\n",
              "        google.colab.kernel.accessAllowed ? 'block' : 'none';\n",
              "    })();\n",
              "  </script>\n",
              "</div>\n",
              "\n",
              "  <div id=\"id_4a30f834-a958-4df0-932b-84352f3e083a\">\n",
              "    <style>\n",
              "      .colab-df-generate {\n",
              "        background-color: #E8F0FE;\n",
              "        border: none;\n",
              "        border-radius: 50%;\n",
              "        cursor: pointer;\n",
              "        display: none;\n",
              "        fill: #1967D2;\n",
              "        height: 32px;\n",
              "        padding: 0 0 0 0;\n",
              "        width: 32px;\n",
              "      }\n",
              "\n",
              "      .colab-df-generate:hover {\n",
              "        background-color: #E2EBFA;\n",
              "        box-shadow: 0px 1px 2px rgba(60, 64, 67, 0.3), 0px 1px 3px 1px rgba(60, 64, 67, 0.15);\n",
              "        fill: #174EA6;\n",
              "      }\n",
              "\n",
              "      [theme=dark] .colab-df-generate {\n",
              "        background-color: #3B4455;\n",
              "        fill: #D2E3FC;\n",
              "      }\n",
              "\n",
              "      [theme=dark] .colab-df-generate:hover {\n",
              "        background-color: #434B5C;\n",
              "        box-shadow: 0px 1px 3px 1px rgba(0, 0, 0, 0.15);\n",
              "        filter: drop-shadow(0px 1px 2px rgba(0, 0, 0, 0.3));\n",
              "        fill: #FFFFFF;\n",
              "      }\n",
              "    </style>\n",
              "    <button class=\"colab-df-generate\" onclick=\"generateWithVariable('df')\"\n",
              "            title=\"Generate code using this dataframe.\"\n",
              "            style=\"display:none;\">\n",
              "\n",
              "  <svg xmlns=\"http://www.w3.org/2000/svg\" height=\"24px\"viewBox=\"0 0 24 24\"\n",
              "       width=\"24px\">\n",
              "    <path d=\"M7,19H8.4L18.45,9,17,7.55,7,17.6ZM5,21V16.75L18.45,3.32a2,2,0,0,1,2.83,0l1.4,1.43a1.91,1.91,0,0,1,.58,1.4,1.91,1.91,0,0,1-.58,1.4L9.25,21ZM18.45,9,17,7.55Zm-12,3A5.31,5.31,0,0,0,4.9,8.1,5.31,5.31,0,0,0,1,6.5,5.31,5.31,0,0,0,4.9,4.9,5.31,5.31,0,0,0,6.5,1,5.31,5.31,0,0,0,8.1,4.9,5.31,5.31,0,0,0,12,6.5,5.46,5.46,0,0,0,6.5,12Z\"/>\n",
              "  </svg>\n",
              "    </button>\n",
              "    <script>\n",
              "      (() => {\n",
              "      const buttonEl =\n",
              "        document.querySelector('#id_4a30f834-a958-4df0-932b-84352f3e083a button.colab-df-generate');\n",
              "      buttonEl.style.display =\n",
              "        google.colab.kernel.accessAllowed ? 'block' : 'none';\n",
              "\n",
              "      buttonEl.onclick = () => {\n",
              "        google.colab.notebook.generateWithVariable('df');\n",
              "      }\n",
              "      })();\n",
              "    </script>\n",
              "  </div>\n",
              "\n",
              "    </div>\n",
              "  </div>\n"
            ],
            "application/vnd.google.colaboratory.intrinsic+json": {
              "type": "dataframe",
              "variable_name": "df"
            }
          },
          "metadata": {},
          "execution_count": 4
        }
      ]
    },
    {
      "cell_type": "code",
      "source": [
        "df.shape"
      ],
      "metadata": {
        "id": "Z5693pnSV0iy",
        "outputId": "4860ec6d-3ea7-4742-fd4d-efccb1ebc646",
        "colab": {
          "base_uri": "https://localhost:8080/"
        }
      },
      "id": "Z5693pnSV0iy",
      "execution_count": 5,
      "outputs": [
        {
          "output_type": "execute_result",
          "data": {
            "text/plain": [
              "(200853, 2)"
            ]
          },
          "metadata": {},
          "execution_count": 5
        }
      ]
    },
    {
      "cell_type": "markdown",
      "metadata": {
        "id": "interstate-bubble"
      },
      "source": [
        "There are over 200,000 headlines listed here, along with the category in which they appeared on the website."
      ],
      "id": "interstate-bubble"
    },
    {
      "cell_type": "code",
      "execution_count": 6,
      "metadata": {
        "id": "fossil-acrobat",
        "outputId": "a1bbecb5-d117-4af0-f5b6-51d867945bee",
        "colab": {
          "base_uri": "https://localhost:8080/",
          "height": 206
        }
      },
      "outputs": [
        {
          "output_type": "execute_result",
          "data": {
            "text/plain": [
              "        category                                           headline\n",
              "0          CRIME  There Were 2 Mass Shootings In Texas Last Week...\n",
              "1  ENTERTAINMENT  Will Smith Joins Diplo And Nicky Jam For The 2...\n",
              "2  ENTERTAINMENT    Hugh Grant Marries For The First Time At Age 57\n",
              "3  ENTERTAINMENT  Jim Carrey Blasts 'Castrato' Adam Schiff And D...\n",
              "4  ENTERTAINMENT  Julianna Margulies Uses Donald Trump Poop Bags..."
            ],
            "text/html": [
              "\n",
              "  <div id=\"df-42e1418a-7707-46da-91a5-31b502a42429\" class=\"colab-df-container\">\n",
              "    <div>\n",
              "<style scoped>\n",
              "    .dataframe tbody tr th:only-of-type {\n",
              "        vertical-align: middle;\n",
              "    }\n",
              "\n",
              "    .dataframe tbody tr th {\n",
              "        vertical-align: top;\n",
              "    }\n",
              "\n",
              "    .dataframe thead th {\n",
              "        text-align: right;\n",
              "    }\n",
              "</style>\n",
              "<table border=\"1\" class=\"dataframe\">\n",
              "  <thead>\n",
              "    <tr style=\"text-align: right;\">\n",
              "      <th></th>\n",
              "      <th>category</th>\n",
              "      <th>headline</th>\n",
              "    </tr>\n",
              "  </thead>\n",
              "  <tbody>\n",
              "    <tr>\n",
              "      <th>0</th>\n",
              "      <td>CRIME</td>\n",
              "      <td>There Were 2 Mass Shootings In Texas Last Week...</td>\n",
              "    </tr>\n",
              "    <tr>\n",
              "      <th>1</th>\n",
              "      <td>ENTERTAINMENT</td>\n",
              "      <td>Will Smith Joins Diplo And Nicky Jam For The 2...</td>\n",
              "    </tr>\n",
              "    <tr>\n",
              "      <th>2</th>\n",
              "      <td>ENTERTAINMENT</td>\n",
              "      <td>Hugh Grant Marries For The First Time At Age 57</td>\n",
              "    </tr>\n",
              "    <tr>\n",
              "      <th>3</th>\n",
              "      <td>ENTERTAINMENT</td>\n",
              "      <td>Jim Carrey Blasts 'Castrato' Adam Schiff And D...</td>\n",
              "    </tr>\n",
              "    <tr>\n",
              "      <th>4</th>\n",
              "      <td>ENTERTAINMENT</td>\n",
              "      <td>Julianna Margulies Uses Donald Trump Poop Bags...</td>\n",
              "    </tr>\n",
              "  </tbody>\n",
              "</table>\n",
              "</div>\n",
              "    <div class=\"colab-df-buttons\">\n",
              "\n",
              "  <div class=\"colab-df-container\">\n",
              "    <button class=\"colab-df-convert\" onclick=\"convertToInteractive('df-42e1418a-7707-46da-91a5-31b502a42429')\"\n",
              "            title=\"Convert this dataframe to an interactive table.\"\n",
              "            style=\"display:none;\">\n",
              "\n",
              "  <svg xmlns=\"http://www.w3.org/2000/svg\" height=\"24px\" viewBox=\"0 -960 960 960\">\n",
              "    <path d=\"M120-120v-720h720v720H120Zm60-500h600v-160H180v160Zm220 220h160v-160H400v160Zm0 220h160v-160H400v160ZM180-400h160v-160H180v160Zm440 0h160v-160H620v160ZM180-180h160v-160H180v160Zm440 0h160v-160H620v160Z\"/>\n",
              "  </svg>\n",
              "    </button>\n",
              "\n",
              "  <style>\n",
              "    .colab-df-container {\n",
              "      display:flex;\n",
              "      gap: 12px;\n",
              "    }\n",
              "\n",
              "    .colab-df-convert {\n",
              "      background-color: #E8F0FE;\n",
              "      border: none;\n",
              "      border-radius: 50%;\n",
              "      cursor: pointer;\n",
              "      display: none;\n",
              "      fill: #1967D2;\n",
              "      height: 32px;\n",
              "      padding: 0 0 0 0;\n",
              "      width: 32px;\n",
              "    }\n",
              "\n",
              "    .colab-df-convert:hover {\n",
              "      background-color: #E2EBFA;\n",
              "      box-shadow: 0px 1px 2px rgba(60, 64, 67, 0.3), 0px 1px 3px 1px rgba(60, 64, 67, 0.15);\n",
              "      fill: #174EA6;\n",
              "    }\n",
              "\n",
              "    .colab-df-buttons div {\n",
              "      margin-bottom: 4px;\n",
              "    }\n",
              "\n",
              "    [theme=dark] .colab-df-convert {\n",
              "      background-color: #3B4455;\n",
              "      fill: #D2E3FC;\n",
              "    }\n",
              "\n",
              "    [theme=dark] .colab-df-convert:hover {\n",
              "      background-color: #434B5C;\n",
              "      box-shadow: 0px 1px 3px 1px rgba(0, 0, 0, 0.15);\n",
              "      filter: drop-shadow(0px 1px 2px rgba(0, 0, 0, 0.3));\n",
              "      fill: #FFFFFF;\n",
              "    }\n",
              "  </style>\n",
              "\n",
              "    <script>\n",
              "      const buttonEl =\n",
              "        document.querySelector('#df-42e1418a-7707-46da-91a5-31b502a42429 button.colab-df-convert');\n",
              "      buttonEl.style.display =\n",
              "        google.colab.kernel.accessAllowed ? 'block' : 'none';\n",
              "\n",
              "      async function convertToInteractive(key) {\n",
              "        const element = document.querySelector('#df-42e1418a-7707-46da-91a5-31b502a42429');\n",
              "        const dataTable =\n",
              "          await google.colab.kernel.invokeFunction('convertToInteractive',\n",
              "                                                    [key], {});\n",
              "        if (!dataTable) return;\n",
              "\n",
              "        const docLinkHtml = 'Like what you see? Visit the ' +\n",
              "          '<a target=\"_blank\" href=https://colab.research.google.com/notebooks/data_table.ipynb>data table notebook</a>'\n",
              "          + ' to learn more about interactive tables.';\n",
              "        element.innerHTML = '';\n",
              "        dataTable['output_type'] = 'display_data';\n",
              "        await google.colab.output.renderOutput(dataTable, element);\n",
              "        const docLink = document.createElement('div');\n",
              "        docLink.innerHTML = docLinkHtml;\n",
              "        element.appendChild(docLink);\n",
              "      }\n",
              "    </script>\n",
              "  </div>\n",
              "\n",
              "\n",
              "<div id=\"df-3555b04f-2f0b-47c8-980f-5af2b364dc8d\">\n",
              "  <button class=\"colab-df-quickchart\" onclick=\"quickchart('df-3555b04f-2f0b-47c8-980f-5af2b364dc8d')\"\n",
              "            title=\"Suggest charts\"\n",
              "            style=\"display:none;\">\n",
              "\n",
              "<svg xmlns=\"http://www.w3.org/2000/svg\" height=\"24px\"viewBox=\"0 0 24 24\"\n",
              "     width=\"24px\">\n",
              "    <g>\n",
              "        <path d=\"M19 3H5c-1.1 0-2 .9-2 2v14c0 1.1.9 2 2 2h14c1.1 0 2-.9 2-2V5c0-1.1-.9-2-2-2zM9 17H7v-7h2v7zm4 0h-2V7h2v10zm4 0h-2v-4h2v4z\"/>\n",
              "    </g>\n",
              "</svg>\n",
              "  </button>\n",
              "\n",
              "<style>\n",
              "  .colab-df-quickchart {\n",
              "      --bg-color: #E8F0FE;\n",
              "      --fill-color: #1967D2;\n",
              "      --hover-bg-color: #E2EBFA;\n",
              "      --hover-fill-color: #174EA6;\n",
              "      --disabled-fill-color: #AAA;\n",
              "      --disabled-bg-color: #DDD;\n",
              "  }\n",
              "\n",
              "  [theme=dark] .colab-df-quickchart {\n",
              "      --bg-color: #3B4455;\n",
              "      --fill-color: #D2E3FC;\n",
              "      --hover-bg-color: #434B5C;\n",
              "      --hover-fill-color: #FFFFFF;\n",
              "      --disabled-bg-color: #3B4455;\n",
              "      --disabled-fill-color: #666;\n",
              "  }\n",
              "\n",
              "  .colab-df-quickchart {\n",
              "    background-color: var(--bg-color);\n",
              "    border: none;\n",
              "    border-radius: 50%;\n",
              "    cursor: pointer;\n",
              "    display: none;\n",
              "    fill: var(--fill-color);\n",
              "    height: 32px;\n",
              "    padding: 0;\n",
              "    width: 32px;\n",
              "  }\n",
              "\n",
              "  .colab-df-quickchart:hover {\n",
              "    background-color: var(--hover-bg-color);\n",
              "    box-shadow: 0 1px 2px rgba(60, 64, 67, 0.3), 0 1px 3px 1px rgba(60, 64, 67, 0.15);\n",
              "    fill: var(--button-hover-fill-color);\n",
              "  }\n",
              "\n",
              "  .colab-df-quickchart-complete:disabled,\n",
              "  .colab-df-quickchart-complete:disabled:hover {\n",
              "    background-color: var(--disabled-bg-color);\n",
              "    fill: var(--disabled-fill-color);\n",
              "    box-shadow: none;\n",
              "  }\n",
              "\n",
              "  .colab-df-spinner {\n",
              "    border: 2px solid var(--fill-color);\n",
              "    border-color: transparent;\n",
              "    border-bottom-color: var(--fill-color);\n",
              "    animation:\n",
              "      spin 1s steps(1) infinite;\n",
              "  }\n",
              "\n",
              "  @keyframes spin {\n",
              "    0% {\n",
              "      border-color: transparent;\n",
              "      border-bottom-color: var(--fill-color);\n",
              "      border-left-color: var(--fill-color);\n",
              "    }\n",
              "    20% {\n",
              "      border-color: transparent;\n",
              "      border-left-color: var(--fill-color);\n",
              "      border-top-color: var(--fill-color);\n",
              "    }\n",
              "    30% {\n",
              "      border-color: transparent;\n",
              "      border-left-color: var(--fill-color);\n",
              "      border-top-color: var(--fill-color);\n",
              "      border-right-color: var(--fill-color);\n",
              "    }\n",
              "    40% {\n",
              "      border-color: transparent;\n",
              "      border-right-color: var(--fill-color);\n",
              "      border-top-color: var(--fill-color);\n",
              "    }\n",
              "    60% {\n",
              "      border-color: transparent;\n",
              "      border-right-color: var(--fill-color);\n",
              "    }\n",
              "    80% {\n",
              "      border-color: transparent;\n",
              "      border-right-color: var(--fill-color);\n",
              "      border-bottom-color: var(--fill-color);\n",
              "    }\n",
              "    90% {\n",
              "      border-color: transparent;\n",
              "      border-bottom-color: var(--fill-color);\n",
              "    }\n",
              "  }\n",
              "</style>\n",
              "\n",
              "  <script>\n",
              "    async function quickchart(key) {\n",
              "      const quickchartButtonEl =\n",
              "        document.querySelector('#' + key + ' button');\n",
              "      quickchartButtonEl.disabled = true;  // To prevent multiple clicks.\n",
              "      quickchartButtonEl.classList.add('colab-df-spinner');\n",
              "      try {\n",
              "        const charts = await google.colab.kernel.invokeFunction(\n",
              "            'suggestCharts', [key], {});\n",
              "      } catch (error) {\n",
              "        console.error('Error during call to suggestCharts:', error);\n",
              "      }\n",
              "      quickchartButtonEl.classList.remove('colab-df-spinner');\n",
              "      quickchartButtonEl.classList.add('colab-df-quickchart-complete');\n",
              "    }\n",
              "    (() => {\n",
              "      let quickchartButtonEl =\n",
              "        document.querySelector('#df-3555b04f-2f0b-47c8-980f-5af2b364dc8d button');\n",
              "      quickchartButtonEl.style.display =\n",
              "        google.colab.kernel.accessAllowed ? 'block' : 'none';\n",
              "    })();\n",
              "  </script>\n",
              "</div>\n",
              "\n",
              "    </div>\n",
              "  </div>\n"
            ],
            "application/vnd.google.colaboratory.intrinsic+json": {
              "type": "dataframe",
              "variable_name": "df"
            }
          },
          "metadata": {},
          "execution_count": 6
        }
      ],
      "source": [
        "df.head()"
      ],
      "id": "fossil-acrobat"
    },
    {
      "cell_type": "markdown",
      "metadata": {
        "id": "alpine-apache"
      },
      "source": [
        "Our task will be to teach an algorithm to classify headlines by predicting the category based on the text of the headline.\n",
        "\n",
        "Training a model on this much text data can require a lot of time, so we are going to simplify the problem a little bit, by reducing the number of categories. Let's take a look at which categories we have:"
      ],
      "id": "alpine-apache"
    },
    {
      "cell_type": "code",
      "execution_count": 7,
      "metadata": {
        "id": "governing-source",
        "outputId": "3f2f1b20-e9c5-482b-f599-032fcc0361a1",
        "colab": {
          "base_uri": "https://localhost:8080/",
          "height": 1000
        }
      },
      "outputs": [
        {
          "output_type": "execute_result",
          "data": {
            "text/plain": [
              "category\n",
              "ARTS               1509\n",
              "ARTS & CULTURE     1339\n",
              "BLACK VOICES       4528\n",
              "BUSINESS           5937\n",
              "COLLEGE            1144\n",
              "COMEDY             5175\n",
              "CRIME              3405\n",
              "CULTURE & ARTS     1030\n",
              "DIVORCE            3426\n",
              "EDUCATION          1004\n",
              "ENTERTAINMENT     16058\n",
              "ENVIRONMENT        1323\n",
              "FIFTY              1401\n",
              "FOOD & DRINK       6226\n",
              "GOOD NEWS          1398\n",
              "GREEN              2622\n",
              "HEALTHY LIVING     6694\n",
              "HOME & LIVING      4195\n",
              "IMPACT             3459\n",
              "LATINO VOICES      1129\n",
              "MEDIA              2815\n",
              "MONEY              1707\n",
              "PARENTING          8677\n",
              "PARENTS            3955\n",
              "POLITICS          32739\n",
              "QUEER VOICES       6314\n",
              "RELIGION           2556\n",
              "SCIENCE            2178\n",
              "SPORTS             4884\n",
              "STYLE              2254\n",
              "STYLE & BEAUTY     9649\n",
              "TASTE              2096\n",
              "TECH               2082\n",
              "THE WORLDPOST      3664\n",
              "TRAVEL             9887\n",
              "WEDDINGS           3651\n",
              "WEIRD NEWS         2670\n",
              "WELLNESS          17827\n",
              "WOMEN              3490\n",
              "WORLD NEWS         2177\n",
              "WORLDPOST          2579\n",
              "dtype: int64"
            ],
            "text/html": [
              "<div>\n",
              "<style scoped>\n",
              "    .dataframe tbody tr th:only-of-type {\n",
              "        vertical-align: middle;\n",
              "    }\n",
              "\n",
              "    .dataframe tbody tr th {\n",
              "        vertical-align: top;\n",
              "    }\n",
              "\n",
              "    .dataframe thead th {\n",
              "        text-align: right;\n",
              "    }\n",
              "</style>\n",
              "<table border=\"1\" class=\"dataframe\">\n",
              "  <thead>\n",
              "    <tr style=\"text-align: right;\">\n",
              "      <th></th>\n",
              "      <th>0</th>\n",
              "    </tr>\n",
              "    <tr>\n",
              "      <th>category</th>\n",
              "      <th></th>\n",
              "    </tr>\n",
              "  </thead>\n",
              "  <tbody>\n",
              "    <tr>\n",
              "      <th>ARTS</th>\n",
              "      <td>1509</td>\n",
              "    </tr>\n",
              "    <tr>\n",
              "      <th>ARTS &amp; CULTURE</th>\n",
              "      <td>1339</td>\n",
              "    </tr>\n",
              "    <tr>\n",
              "      <th>BLACK VOICES</th>\n",
              "      <td>4528</td>\n",
              "    </tr>\n",
              "    <tr>\n",
              "      <th>BUSINESS</th>\n",
              "      <td>5937</td>\n",
              "    </tr>\n",
              "    <tr>\n",
              "      <th>COLLEGE</th>\n",
              "      <td>1144</td>\n",
              "    </tr>\n",
              "    <tr>\n",
              "      <th>COMEDY</th>\n",
              "      <td>5175</td>\n",
              "    </tr>\n",
              "    <tr>\n",
              "      <th>CRIME</th>\n",
              "      <td>3405</td>\n",
              "    </tr>\n",
              "    <tr>\n",
              "      <th>CULTURE &amp; ARTS</th>\n",
              "      <td>1030</td>\n",
              "    </tr>\n",
              "    <tr>\n",
              "      <th>DIVORCE</th>\n",
              "      <td>3426</td>\n",
              "    </tr>\n",
              "    <tr>\n",
              "      <th>EDUCATION</th>\n",
              "      <td>1004</td>\n",
              "    </tr>\n",
              "    <tr>\n",
              "      <th>ENTERTAINMENT</th>\n",
              "      <td>16058</td>\n",
              "    </tr>\n",
              "    <tr>\n",
              "      <th>ENVIRONMENT</th>\n",
              "      <td>1323</td>\n",
              "    </tr>\n",
              "    <tr>\n",
              "      <th>FIFTY</th>\n",
              "      <td>1401</td>\n",
              "    </tr>\n",
              "    <tr>\n",
              "      <th>FOOD &amp; DRINK</th>\n",
              "      <td>6226</td>\n",
              "    </tr>\n",
              "    <tr>\n",
              "      <th>GOOD NEWS</th>\n",
              "      <td>1398</td>\n",
              "    </tr>\n",
              "    <tr>\n",
              "      <th>GREEN</th>\n",
              "      <td>2622</td>\n",
              "    </tr>\n",
              "    <tr>\n",
              "      <th>HEALTHY LIVING</th>\n",
              "      <td>6694</td>\n",
              "    </tr>\n",
              "    <tr>\n",
              "      <th>HOME &amp; LIVING</th>\n",
              "      <td>4195</td>\n",
              "    </tr>\n",
              "    <tr>\n",
              "      <th>IMPACT</th>\n",
              "      <td>3459</td>\n",
              "    </tr>\n",
              "    <tr>\n",
              "      <th>LATINO VOICES</th>\n",
              "      <td>1129</td>\n",
              "    </tr>\n",
              "    <tr>\n",
              "      <th>MEDIA</th>\n",
              "      <td>2815</td>\n",
              "    </tr>\n",
              "    <tr>\n",
              "      <th>MONEY</th>\n",
              "      <td>1707</td>\n",
              "    </tr>\n",
              "    <tr>\n",
              "      <th>PARENTING</th>\n",
              "      <td>8677</td>\n",
              "    </tr>\n",
              "    <tr>\n",
              "      <th>PARENTS</th>\n",
              "      <td>3955</td>\n",
              "    </tr>\n",
              "    <tr>\n",
              "      <th>POLITICS</th>\n",
              "      <td>32739</td>\n",
              "    </tr>\n",
              "    <tr>\n",
              "      <th>QUEER VOICES</th>\n",
              "      <td>6314</td>\n",
              "    </tr>\n",
              "    <tr>\n",
              "      <th>RELIGION</th>\n",
              "      <td>2556</td>\n",
              "    </tr>\n",
              "    <tr>\n",
              "      <th>SCIENCE</th>\n",
              "      <td>2178</td>\n",
              "    </tr>\n",
              "    <tr>\n",
              "      <th>SPORTS</th>\n",
              "      <td>4884</td>\n",
              "    </tr>\n",
              "    <tr>\n",
              "      <th>STYLE</th>\n",
              "      <td>2254</td>\n",
              "    </tr>\n",
              "    <tr>\n",
              "      <th>STYLE &amp; BEAUTY</th>\n",
              "      <td>9649</td>\n",
              "    </tr>\n",
              "    <tr>\n",
              "      <th>TASTE</th>\n",
              "      <td>2096</td>\n",
              "    </tr>\n",
              "    <tr>\n",
              "      <th>TECH</th>\n",
              "      <td>2082</td>\n",
              "    </tr>\n",
              "    <tr>\n",
              "      <th>THE WORLDPOST</th>\n",
              "      <td>3664</td>\n",
              "    </tr>\n",
              "    <tr>\n",
              "      <th>TRAVEL</th>\n",
              "      <td>9887</td>\n",
              "    </tr>\n",
              "    <tr>\n",
              "      <th>WEDDINGS</th>\n",
              "      <td>3651</td>\n",
              "    </tr>\n",
              "    <tr>\n",
              "      <th>WEIRD NEWS</th>\n",
              "      <td>2670</td>\n",
              "    </tr>\n",
              "    <tr>\n",
              "      <th>WELLNESS</th>\n",
              "      <td>17827</td>\n",
              "    </tr>\n",
              "    <tr>\n",
              "      <th>WOMEN</th>\n",
              "      <td>3490</td>\n",
              "    </tr>\n",
              "    <tr>\n",
              "      <th>WORLD NEWS</th>\n",
              "      <td>2177</td>\n",
              "    </tr>\n",
              "    <tr>\n",
              "      <th>WORLDPOST</th>\n",
              "      <td>2579</td>\n",
              "    </tr>\n",
              "  </tbody>\n",
              "</table>\n",
              "</div><br><label><b>dtype:</b> int64</label>"
            ]
          },
          "metadata": {},
          "execution_count": 7
        }
      ],
      "source": [
        "df.groupby(\"category\").size()"
      ],
      "id": "governing-source"
    },
    {
      "cell_type": "markdown",
      "metadata": {
        "id": "plastic-colon"
      },
      "source": [
        "Some of these categories are a little odd:\n",
        "\n",
        "- \"Women\"?\n",
        "- \"Weird News\"?\n",
        "- What's the difference between \"Style,\" \"Style & Beauty,\" and \"Taste\"? ).\n",
        "- \"Parenting\" vs. \"Parents\"?\n",
        "- Etc?...\n",
        "\n",
        "Well, there are definitely some questions here! Let's just choose a few categories, and discard the rest:"
      ],
      "id": "plastic-colon"
    },
    {
      "cell_type": "code",
      "execution_count": 8,
      "metadata": {
        "id": "dietary-planning",
        "outputId": "719d8db9-698d-4423-b964-b28f8c6f5969",
        "colab": {
          "base_uri": "https://localhost:8080/",
          "height": 206
        }
      },
      "outputs": [
        {
          "output_type": "execute_result",
          "data": {
            "text/plain": [
              "    category                                           headline\n",
              "137     TECH  Facebook Accused Of Reading Texts And Accessin...\n",
              "138     TECH  Self-Driving Uber In Fatal Accident Had 6 Seco...\n",
              "155  SCIENCE  Scientists Turn To DNA Technology To Search Fo...\n",
              "272     TECH  Instagram Is Adding A 'Mute' Button For The Sa...\n",
              "285  SCIENCE  Unusual Asteroid Could Be An Interstellar Gues..."
            ],
            "text/html": [
              "\n",
              "  <div id=\"df-ecce2f9f-4a2d-4cd6-90d4-c18de816091d\" class=\"colab-df-container\">\n",
              "    <div>\n",
              "<style scoped>\n",
              "    .dataframe tbody tr th:only-of-type {\n",
              "        vertical-align: middle;\n",
              "    }\n",
              "\n",
              "    .dataframe tbody tr th {\n",
              "        vertical-align: top;\n",
              "    }\n",
              "\n",
              "    .dataframe thead th {\n",
              "        text-align: right;\n",
              "    }\n",
              "</style>\n",
              "<table border=\"1\" class=\"dataframe\">\n",
              "  <thead>\n",
              "    <tr style=\"text-align: right;\">\n",
              "      <th></th>\n",
              "      <th>category</th>\n",
              "      <th>headline</th>\n",
              "    </tr>\n",
              "  </thead>\n",
              "  <tbody>\n",
              "    <tr>\n",
              "      <th>137</th>\n",
              "      <td>TECH</td>\n",
              "      <td>Facebook Accused Of Reading Texts And Accessin...</td>\n",
              "    </tr>\n",
              "    <tr>\n",
              "      <th>138</th>\n",
              "      <td>TECH</td>\n",
              "      <td>Self-Driving Uber In Fatal Accident Had 6 Seco...</td>\n",
              "    </tr>\n",
              "    <tr>\n",
              "      <th>155</th>\n",
              "      <td>SCIENCE</td>\n",
              "      <td>Scientists Turn To DNA Technology To Search Fo...</td>\n",
              "    </tr>\n",
              "    <tr>\n",
              "      <th>272</th>\n",
              "      <td>TECH</td>\n",
              "      <td>Instagram Is Adding A 'Mute' Button For The Sa...</td>\n",
              "    </tr>\n",
              "    <tr>\n",
              "      <th>285</th>\n",
              "      <td>SCIENCE</td>\n",
              "      <td>Unusual Asteroid Could Be An Interstellar Gues...</td>\n",
              "    </tr>\n",
              "  </tbody>\n",
              "</table>\n",
              "</div>\n",
              "    <div class=\"colab-df-buttons\">\n",
              "\n",
              "  <div class=\"colab-df-container\">\n",
              "    <button class=\"colab-df-convert\" onclick=\"convertToInteractive('df-ecce2f9f-4a2d-4cd6-90d4-c18de816091d')\"\n",
              "            title=\"Convert this dataframe to an interactive table.\"\n",
              "            style=\"display:none;\">\n",
              "\n",
              "  <svg xmlns=\"http://www.w3.org/2000/svg\" height=\"24px\" viewBox=\"0 -960 960 960\">\n",
              "    <path d=\"M120-120v-720h720v720H120Zm60-500h600v-160H180v160Zm220 220h160v-160H400v160Zm0 220h160v-160H400v160ZM180-400h160v-160H180v160Zm440 0h160v-160H620v160ZM180-180h160v-160H180v160Zm440 0h160v-160H620v160Z\"/>\n",
              "  </svg>\n",
              "    </button>\n",
              "\n",
              "  <style>\n",
              "    .colab-df-container {\n",
              "      display:flex;\n",
              "      gap: 12px;\n",
              "    }\n",
              "\n",
              "    .colab-df-convert {\n",
              "      background-color: #E8F0FE;\n",
              "      border: none;\n",
              "      border-radius: 50%;\n",
              "      cursor: pointer;\n",
              "      display: none;\n",
              "      fill: #1967D2;\n",
              "      height: 32px;\n",
              "      padding: 0 0 0 0;\n",
              "      width: 32px;\n",
              "    }\n",
              "\n",
              "    .colab-df-convert:hover {\n",
              "      background-color: #E2EBFA;\n",
              "      box-shadow: 0px 1px 2px rgba(60, 64, 67, 0.3), 0px 1px 3px 1px rgba(60, 64, 67, 0.15);\n",
              "      fill: #174EA6;\n",
              "    }\n",
              "\n",
              "    .colab-df-buttons div {\n",
              "      margin-bottom: 4px;\n",
              "    }\n",
              "\n",
              "    [theme=dark] .colab-df-convert {\n",
              "      background-color: #3B4455;\n",
              "      fill: #D2E3FC;\n",
              "    }\n",
              "\n",
              "    [theme=dark] .colab-df-convert:hover {\n",
              "      background-color: #434B5C;\n",
              "      box-shadow: 0px 1px 3px 1px rgba(0, 0, 0, 0.15);\n",
              "      filter: drop-shadow(0px 1px 2px rgba(0, 0, 0, 0.3));\n",
              "      fill: #FFFFFF;\n",
              "    }\n",
              "  </style>\n",
              "\n",
              "    <script>\n",
              "      const buttonEl =\n",
              "        document.querySelector('#df-ecce2f9f-4a2d-4cd6-90d4-c18de816091d button.colab-df-convert');\n",
              "      buttonEl.style.display =\n",
              "        google.colab.kernel.accessAllowed ? 'block' : 'none';\n",
              "\n",
              "      async function convertToInteractive(key) {\n",
              "        const element = document.querySelector('#df-ecce2f9f-4a2d-4cd6-90d4-c18de816091d');\n",
              "        const dataTable =\n",
              "          await google.colab.kernel.invokeFunction('convertToInteractive',\n",
              "                                                    [key], {});\n",
              "        if (!dataTable) return;\n",
              "\n",
              "        const docLinkHtml = 'Like what you see? Visit the ' +\n",
              "          '<a target=\"_blank\" href=https://colab.research.google.com/notebooks/data_table.ipynb>data table notebook</a>'\n",
              "          + ' to learn more about interactive tables.';\n",
              "        element.innerHTML = '';\n",
              "        dataTable['output_type'] = 'display_data';\n",
              "        await google.colab.output.renderOutput(dataTable, element);\n",
              "        const docLink = document.createElement('div');\n",
              "        docLink.innerHTML = docLinkHtml;\n",
              "        element.appendChild(docLink);\n",
              "      }\n",
              "    </script>\n",
              "  </div>\n",
              "\n",
              "\n",
              "<div id=\"df-70269baf-3b92-4267-aee5-323ee7234aad\">\n",
              "  <button class=\"colab-df-quickchart\" onclick=\"quickchart('df-70269baf-3b92-4267-aee5-323ee7234aad')\"\n",
              "            title=\"Suggest charts\"\n",
              "            style=\"display:none;\">\n",
              "\n",
              "<svg xmlns=\"http://www.w3.org/2000/svg\" height=\"24px\"viewBox=\"0 0 24 24\"\n",
              "     width=\"24px\">\n",
              "    <g>\n",
              "        <path d=\"M19 3H5c-1.1 0-2 .9-2 2v14c0 1.1.9 2 2 2h14c1.1 0 2-.9 2-2V5c0-1.1-.9-2-2-2zM9 17H7v-7h2v7zm4 0h-2V7h2v10zm4 0h-2v-4h2v4z\"/>\n",
              "    </g>\n",
              "</svg>\n",
              "  </button>\n",
              "\n",
              "<style>\n",
              "  .colab-df-quickchart {\n",
              "      --bg-color: #E8F0FE;\n",
              "      --fill-color: #1967D2;\n",
              "      --hover-bg-color: #E2EBFA;\n",
              "      --hover-fill-color: #174EA6;\n",
              "      --disabled-fill-color: #AAA;\n",
              "      --disabled-bg-color: #DDD;\n",
              "  }\n",
              "\n",
              "  [theme=dark] .colab-df-quickchart {\n",
              "      --bg-color: #3B4455;\n",
              "      --fill-color: #D2E3FC;\n",
              "      --hover-bg-color: #434B5C;\n",
              "      --hover-fill-color: #FFFFFF;\n",
              "      --disabled-bg-color: #3B4455;\n",
              "      --disabled-fill-color: #666;\n",
              "  }\n",
              "\n",
              "  .colab-df-quickchart {\n",
              "    background-color: var(--bg-color);\n",
              "    border: none;\n",
              "    border-radius: 50%;\n",
              "    cursor: pointer;\n",
              "    display: none;\n",
              "    fill: var(--fill-color);\n",
              "    height: 32px;\n",
              "    padding: 0;\n",
              "    width: 32px;\n",
              "  }\n",
              "\n",
              "  .colab-df-quickchart:hover {\n",
              "    background-color: var(--hover-bg-color);\n",
              "    box-shadow: 0 1px 2px rgba(60, 64, 67, 0.3), 0 1px 3px 1px rgba(60, 64, 67, 0.15);\n",
              "    fill: var(--button-hover-fill-color);\n",
              "  }\n",
              "\n",
              "  .colab-df-quickchart-complete:disabled,\n",
              "  .colab-df-quickchart-complete:disabled:hover {\n",
              "    background-color: var(--disabled-bg-color);\n",
              "    fill: var(--disabled-fill-color);\n",
              "    box-shadow: none;\n",
              "  }\n",
              "\n",
              "  .colab-df-spinner {\n",
              "    border: 2px solid var(--fill-color);\n",
              "    border-color: transparent;\n",
              "    border-bottom-color: var(--fill-color);\n",
              "    animation:\n",
              "      spin 1s steps(1) infinite;\n",
              "  }\n",
              "\n",
              "  @keyframes spin {\n",
              "    0% {\n",
              "      border-color: transparent;\n",
              "      border-bottom-color: var(--fill-color);\n",
              "      border-left-color: var(--fill-color);\n",
              "    }\n",
              "    20% {\n",
              "      border-color: transparent;\n",
              "      border-left-color: var(--fill-color);\n",
              "      border-top-color: var(--fill-color);\n",
              "    }\n",
              "    30% {\n",
              "      border-color: transparent;\n",
              "      border-left-color: var(--fill-color);\n",
              "      border-top-color: var(--fill-color);\n",
              "      border-right-color: var(--fill-color);\n",
              "    }\n",
              "    40% {\n",
              "      border-color: transparent;\n",
              "      border-right-color: var(--fill-color);\n",
              "      border-top-color: var(--fill-color);\n",
              "    }\n",
              "    60% {\n",
              "      border-color: transparent;\n",
              "      border-right-color: var(--fill-color);\n",
              "    }\n",
              "    80% {\n",
              "      border-color: transparent;\n",
              "      border-right-color: var(--fill-color);\n",
              "      border-bottom-color: var(--fill-color);\n",
              "    }\n",
              "    90% {\n",
              "      border-color: transparent;\n",
              "      border-bottom-color: var(--fill-color);\n",
              "    }\n",
              "  }\n",
              "</style>\n",
              "\n",
              "  <script>\n",
              "    async function quickchart(key) {\n",
              "      const quickchartButtonEl =\n",
              "        document.querySelector('#' + key + ' button');\n",
              "      quickchartButtonEl.disabled = true;  // To prevent multiple clicks.\n",
              "      quickchartButtonEl.classList.add('colab-df-spinner');\n",
              "      try {\n",
              "        const charts = await google.colab.kernel.invokeFunction(\n",
              "            'suggestCharts', [key], {});\n",
              "      } catch (error) {\n",
              "        console.error('Error during call to suggestCharts:', error);\n",
              "      }\n",
              "      quickchartButtonEl.classList.remove('colab-df-spinner');\n",
              "      quickchartButtonEl.classList.add('colab-df-quickchart-complete');\n",
              "    }\n",
              "    (() => {\n",
              "      let quickchartButtonEl =\n",
              "        document.querySelector('#df-70269baf-3b92-4267-aee5-323ee7234aad button');\n",
              "      quickchartButtonEl.style.display =\n",
              "        google.colab.kernel.accessAllowed ? 'block' : 'none';\n",
              "    })();\n",
              "  </script>\n",
              "</div>\n",
              "\n",
              "    </div>\n",
              "  </div>\n"
            ],
            "application/vnd.google.colaboratory.intrinsic+json": {
              "type": "dataframe",
              "variable_name": "df",
              "summary": "{\n  \"name\": \"df\",\n  \"rows\": 6514,\n  \"fields\": [\n    {\n      \"column\": \"category\",\n      \"properties\": {\n        \"dtype\": \"category\",\n        \"num_unique_values\": 3,\n        \"samples\": [\n          \"TECH\",\n          \"SCIENCE\",\n          \"STYLE\"\n        ],\n        \"semantic_type\": \"\",\n        \"description\": \"\"\n      }\n    },\n    {\n      \"column\": \"headline\",\n      \"properties\": {\n        \"dtype\": \"string\",\n        \"num_unique_values\": 6449,\n        \"samples\": [\n          \"Your Last Chance to Ask Candidates a Science Question\",\n          \"Knobby-Faced Beast May Be Earliest Known To Stand Tall On All Fours\",\n          \"Just Jump Through the Fear\"\n        ],\n        \"semantic_type\": \"\",\n        \"description\": \"\"\n      }\n    }\n  ]\n}"
            }
          },
          "metadata": {},
          "execution_count": 8
        }
      ],
      "source": [
        "categories = [\"STYLE\", \"SCIENCE\", \"TECH\"]\n",
        "\n",
        "df = df[df[\"category\"].apply(lambda x: x in categories)]\n",
        "df.head()"
      ],
      "id": "dietary-planning"
    },
    {
      "cell_type": "markdown",
      "metadata": {
        "id": "blank-living"
      },
      "source": [
        "Next, we'll use a `LabelEncoder` to transform the `category` column into integers.\n",
        "\n",
        "**Note**: I couldn't find a way that I was satisfied with to do this in TensorFlow/JAX/PyTorch, but if you know a smooth way, let me know!"
      ],
      "id": "blank-living"
    },
    {
      "cell_type": "code",
      "source": [
        "pd.__version__"
      ],
      "metadata": {
        "id": "GdFZOQ0bvqWh",
        "outputId": "9b0c0d99-9b04-47a5-ac9a-1d7d8e583656",
        "colab": {
          "base_uri": "https://localhost:8080/",
          "height": 35
        }
      },
      "id": "GdFZOQ0bvqWh",
      "execution_count": 9,
      "outputs": [
        {
          "output_type": "execute_result",
          "data": {
            "text/plain": [
              "'2.2.2'"
            ],
            "application/vnd.google.colaboratory.intrinsic+json": {
              "type": "string"
            }
          },
          "metadata": {},
          "execution_count": 9
        }
      ]
    },
    {
      "cell_type": "code",
      "execution_count": 11,
      "metadata": {
        "id": "0FO6oRmRAZN4",
        "outputId": "fd2e8f83-0864-458c-82c2-877d1abf023a",
        "colab": {
          "base_uri": "https://localhost:8080/",
          "height": 333
        }
      },
      "outputs": [
        {
          "output_type": "stream",
          "name": "stderr",
          "text": [
            "<ipython-input-11-94543e0a08ca>:2: SettingWithCopyWarning: \n",
            "A value is trying to be set on a copy of a slice from a DataFrame.\n",
            "Try using .loc[row_indexer,col_indexer] = value instead\n",
            "\n",
            "See the caveats in the documentation: https://pandas.pydata.org/pandas-docs/stable/user_guide/indexing.html#returning-a-view-versus-a-copy\n",
            "  df[\"category_encoded\"] = le.fit_transform(df[\"category\"])\n"
          ]
        },
        {
          "output_type": "execute_result",
          "data": {
            "text/plain": [
              "    category                                           headline  \\\n",
              "137     TECH  Facebook Accused Of Reading Texts And Accessin...   \n",
              "138     TECH  Self-Driving Uber In Fatal Accident Had 6 Seco...   \n",
              "155  SCIENCE  Scientists Turn To DNA Technology To Search Fo...   \n",
              "272     TECH  Instagram Is Adding A 'Mute' Button For The Sa...   \n",
              "285  SCIENCE  Unusual Asteroid Could Be An Interstellar Gues...   \n",
              "\n",
              "     category_encoded  \n",
              "137                 2  \n",
              "138                 2  \n",
              "155                 0  \n",
              "272                 2  \n",
              "285                 0  "
            ],
            "text/html": [
              "\n",
              "  <div id=\"df-404941bf-0155-4b7c-97fe-be76a280b7ba\" class=\"colab-df-container\">\n",
              "    <div>\n",
              "<style scoped>\n",
              "    .dataframe tbody tr th:only-of-type {\n",
              "        vertical-align: middle;\n",
              "    }\n",
              "\n",
              "    .dataframe tbody tr th {\n",
              "        vertical-align: top;\n",
              "    }\n",
              "\n",
              "    .dataframe thead th {\n",
              "        text-align: right;\n",
              "    }\n",
              "</style>\n",
              "<table border=\"1\" class=\"dataframe\">\n",
              "  <thead>\n",
              "    <tr style=\"text-align: right;\">\n",
              "      <th></th>\n",
              "      <th>category</th>\n",
              "      <th>headline</th>\n",
              "      <th>category_encoded</th>\n",
              "    </tr>\n",
              "  </thead>\n",
              "  <tbody>\n",
              "    <tr>\n",
              "      <th>137</th>\n",
              "      <td>TECH</td>\n",
              "      <td>Facebook Accused Of Reading Texts And Accessin...</td>\n",
              "      <td>2</td>\n",
              "    </tr>\n",
              "    <tr>\n",
              "      <th>138</th>\n",
              "      <td>TECH</td>\n",
              "      <td>Self-Driving Uber In Fatal Accident Had 6 Seco...</td>\n",
              "      <td>2</td>\n",
              "    </tr>\n",
              "    <tr>\n",
              "      <th>155</th>\n",
              "      <td>SCIENCE</td>\n",
              "      <td>Scientists Turn To DNA Technology To Search Fo...</td>\n",
              "      <td>0</td>\n",
              "    </tr>\n",
              "    <tr>\n",
              "      <th>272</th>\n",
              "      <td>TECH</td>\n",
              "      <td>Instagram Is Adding A 'Mute' Button For The Sa...</td>\n",
              "      <td>2</td>\n",
              "    </tr>\n",
              "    <tr>\n",
              "      <th>285</th>\n",
              "      <td>SCIENCE</td>\n",
              "      <td>Unusual Asteroid Could Be An Interstellar Gues...</td>\n",
              "      <td>0</td>\n",
              "    </tr>\n",
              "  </tbody>\n",
              "</table>\n",
              "</div>\n",
              "    <div class=\"colab-df-buttons\">\n",
              "\n",
              "  <div class=\"colab-df-container\">\n",
              "    <button class=\"colab-df-convert\" onclick=\"convertToInteractive('df-404941bf-0155-4b7c-97fe-be76a280b7ba')\"\n",
              "            title=\"Convert this dataframe to an interactive table.\"\n",
              "            style=\"display:none;\">\n",
              "\n",
              "  <svg xmlns=\"http://www.w3.org/2000/svg\" height=\"24px\" viewBox=\"0 -960 960 960\">\n",
              "    <path d=\"M120-120v-720h720v720H120Zm60-500h600v-160H180v160Zm220 220h160v-160H400v160Zm0 220h160v-160H400v160ZM180-400h160v-160H180v160Zm440 0h160v-160H620v160ZM180-180h160v-160H180v160Zm440 0h160v-160H620v160Z\"/>\n",
              "  </svg>\n",
              "    </button>\n",
              "\n",
              "  <style>\n",
              "    .colab-df-container {\n",
              "      display:flex;\n",
              "      gap: 12px;\n",
              "    }\n",
              "\n",
              "    .colab-df-convert {\n",
              "      background-color: #E8F0FE;\n",
              "      border: none;\n",
              "      border-radius: 50%;\n",
              "      cursor: pointer;\n",
              "      display: none;\n",
              "      fill: #1967D2;\n",
              "      height: 32px;\n",
              "      padding: 0 0 0 0;\n",
              "      width: 32px;\n",
              "    }\n",
              "\n",
              "    .colab-df-convert:hover {\n",
              "      background-color: #E2EBFA;\n",
              "      box-shadow: 0px 1px 2px rgba(60, 64, 67, 0.3), 0px 1px 3px 1px rgba(60, 64, 67, 0.15);\n",
              "      fill: #174EA6;\n",
              "    }\n",
              "\n",
              "    .colab-df-buttons div {\n",
              "      margin-bottom: 4px;\n",
              "    }\n",
              "\n",
              "    [theme=dark] .colab-df-convert {\n",
              "      background-color: #3B4455;\n",
              "      fill: #D2E3FC;\n",
              "    }\n",
              "\n",
              "    [theme=dark] .colab-df-convert:hover {\n",
              "      background-color: #434B5C;\n",
              "      box-shadow: 0px 1px 3px 1px rgba(0, 0, 0, 0.15);\n",
              "      filter: drop-shadow(0px 1px 2px rgba(0, 0, 0, 0.3));\n",
              "      fill: #FFFFFF;\n",
              "    }\n",
              "  </style>\n",
              "\n",
              "    <script>\n",
              "      const buttonEl =\n",
              "        document.querySelector('#df-404941bf-0155-4b7c-97fe-be76a280b7ba button.colab-df-convert');\n",
              "      buttonEl.style.display =\n",
              "        google.colab.kernel.accessAllowed ? 'block' : 'none';\n",
              "\n",
              "      async function convertToInteractive(key) {\n",
              "        const element = document.querySelector('#df-404941bf-0155-4b7c-97fe-be76a280b7ba');\n",
              "        const dataTable =\n",
              "          await google.colab.kernel.invokeFunction('convertToInteractive',\n",
              "                                                    [key], {});\n",
              "        if (!dataTable) return;\n",
              "\n",
              "        const docLinkHtml = 'Like what you see? Visit the ' +\n",
              "          '<a target=\"_blank\" href=https://colab.research.google.com/notebooks/data_table.ipynb>data table notebook</a>'\n",
              "          + ' to learn more about interactive tables.';\n",
              "        element.innerHTML = '';\n",
              "        dataTable['output_type'] = 'display_data';\n",
              "        await google.colab.output.renderOutput(dataTable, element);\n",
              "        const docLink = document.createElement('div');\n",
              "        docLink.innerHTML = docLinkHtml;\n",
              "        element.appendChild(docLink);\n",
              "      }\n",
              "    </script>\n",
              "  </div>\n",
              "\n",
              "\n",
              "<div id=\"df-23c9caae-363f-4168-a88e-a2dab3f7af74\">\n",
              "  <button class=\"colab-df-quickchart\" onclick=\"quickchart('df-23c9caae-363f-4168-a88e-a2dab3f7af74')\"\n",
              "            title=\"Suggest charts\"\n",
              "            style=\"display:none;\">\n",
              "\n",
              "<svg xmlns=\"http://www.w3.org/2000/svg\" height=\"24px\"viewBox=\"0 0 24 24\"\n",
              "     width=\"24px\">\n",
              "    <g>\n",
              "        <path d=\"M19 3H5c-1.1 0-2 .9-2 2v14c0 1.1.9 2 2 2h14c1.1 0 2-.9 2-2V5c0-1.1-.9-2-2-2zM9 17H7v-7h2v7zm4 0h-2V7h2v10zm4 0h-2v-4h2v4z\"/>\n",
              "    </g>\n",
              "</svg>\n",
              "  </button>\n",
              "\n",
              "<style>\n",
              "  .colab-df-quickchart {\n",
              "      --bg-color: #E8F0FE;\n",
              "      --fill-color: #1967D2;\n",
              "      --hover-bg-color: #E2EBFA;\n",
              "      --hover-fill-color: #174EA6;\n",
              "      --disabled-fill-color: #AAA;\n",
              "      --disabled-bg-color: #DDD;\n",
              "  }\n",
              "\n",
              "  [theme=dark] .colab-df-quickchart {\n",
              "      --bg-color: #3B4455;\n",
              "      --fill-color: #D2E3FC;\n",
              "      --hover-bg-color: #434B5C;\n",
              "      --hover-fill-color: #FFFFFF;\n",
              "      --disabled-bg-color: #3B4455;\n",
              "      --disabled-fill-color: #666;\n",
              "  }\n",
              "\n",
              "  .colab-df-quickchart {\n",
              "    background-color: var(--bg-color);\n",
              "    border: none;\n",
              "    border-radius: 50%;\n",
              "    cursor: pointer;\n",
              "    display: none;\n",
              "    fill: var(--fill-color);\n",
              "    height: 32px;\n",
              "    padding: 0;\n",
              "    width: 32px;\n",
              "  }\n",
              "\n",
              "  .colab-df-quickchart:hover {\n",
              "    background-color: var(--hover-bg-color);\n",
              "    box-shadow: 0 1px 2px rgba(60, 64, 67, 0.3), 0 1px 3px 1px rgba(60, 64, 67, 0.15);\n",
              "    fill: var(--button-hover-fill-color);\n",
              "  }\n",
              "\n",
              "  .colab-df-quickchart-complete:disabled,\n",
              "  .colab-df-quickchart-complete:disabled:hover {\n",
              "    background-color: var(--disabled-bg-color);\n",
              "    fill: var(--disabled-fill-color);\n",
              "    box-shadow: none;\n",
              "  }\n",
              "\n",
              "  .colab-df-spinner {\n",
              "    border: 2px solid var(--fill-color);\n",
              "    border-color: transparent;\n",
              "    border-bottom-color: var(--fill-color);\n",
              "    animation:\n",
              "      spin 1s steps(1) infinite;\n",
              "  }\n",
              "\n",
              "  @keyframes spin {\n",
              "    0% {\n",
              "      border-color: transparent;\n",
              "      border-bottom-color: var(--fill-color);\n",
              "      border-left-color: var(--fill-color);\n",
              "    }\n",
              "    20% {\n",
              "      border-color: transparent;\n",
              "      border-left-color: var(--fill-color);\n",
              "      border-top-color: var(--fill-color);\n",
              "    }\n",
              "    30% {\n",
              "      border-color: transparent;\n",
              "      border-left-color: var(--fill-color);\n",
              "      border-top-color: var(--fill-color);\n",
              "      border-right-color: var(--fill-color);\n",
              "    }\n",
              "    40% {\n",
              "      border-color: transparent;\n",
              "      border-right-color: var(--fill-color);\n",
              "      border-top-color: var(--fill-color);\n",
              "    }\n",
              "    60% {\n",
              "      border-color: transparent;\n",
              "      border-right-color: var(--fill-color);\n",
              "    }\n",
              "    80% {\n",
              "      border-color: transparent;\n",
              "      border-right-color: var(--fill-color);\n",
              "      border-bottom-color: var(--fill-color);\n",
              "    }\n",
              "    90% {\n",
              "      border-color: transparent;\n",
              "      border-bottom-color: var(--fill-color);\n",
              "    }\n",
              "  }\n",
              "</style>\n",
              "\n",
              "  <script>\n",
              "    async function quickchart(key) {\n",
              "      const quickchartButtonEl =\n",
              "        document.querySelector('#' + key + ' button');\n",
              "      quickchartButtonEl.disabled = true;  // To prevent multiple clicks.\n",
              "      quickchartButtonEl.classList.add('colab-df-spinner');\n",
              "      try {\n",
              "        const charts = await google.colab.kernel.invokeFunction(\n",
              "            'suggestCharts', [key], {});\n",
              "      } catch (error) {\n",
              "        console.error('Error during call to suggestCharts:', error);\n",
              "      }\n",
              "      quickchartButtonEl.classList.remove('colab-df-spinner');\n",
              "      quickchartButtonEl.classList.add('colab-df-quickchart-complete');\n",
              "    }\n",
              "    (() => {\n",
              "      let quickchartButtonEl =\n",
              "        document.querySelector('#df-23c9caae-363f-4168-a88e-a2dab3f7af74 button');\n",
              "      quickchartButtonEl.style.display =\n",
              "        google.colab.kernel.accessAllowed ? 'block' : 'none';\n",
              "    })();\n",
              "  </script>\n",
              "</div>\n",
              "\n",
              "    </div>\n",
              "  </div>\n"
            ],
            "application/vnd.google.colaboratory.intrinsic+json": {
              "type": "dataframe",
              "variable_name": "df",
              "summary": "{\n  \"name\": \"df\",\n  \"rows\": 6514,\n  \"fields\": [\n    {\n      \"column\": \"category\",\n      \"properties\": {\n        \"dtype\": \"category\",\n        \"num_unique_values\": 3,\n        \"samples\": [\n          \"TECH\",\n          \"SCIENCE\",\n          \"STYLE\"\n        ],\n        \"semantic_type\": \"\",\n        \"description\": \"\"\n      }\n    },\n    {\n      \"column\": \"headline\",\n      \"properties\": {\n        \"dtype\": \"string\",\n        \"num_unique_values\": 6449,\n        \"samples\": [\n          \"Your Last Chance to Ask Candidates a Science Question\",\n          \"Knobby-Faced Beast May Be Earliest Known To Stand Tall On All Fours\",\n          \"Just Jump Through the Fear\"\n        ],\n        \"semantic_type\": \"\",\n        \"description\": \"\"\n      }\n    },\n    {\n      \"column\": \"category_encoded\",\n      \"properties\": {\n        \"dtype\": \"number\",\n        \"std\": 0,\n        \"min\": 0,\n        \"max\": 2,\n        \"num_unique_values\": 3,\n        \"samples\": [\n          2,\n          0,\n          1\n        ],\n        \"semantic_type\": \"\",\n        \"description\": \"\"\n      }\n    }\n  ]\n}"
            }
          },
          "metadata": {},
          "execution_count": 11
        }
      ],
      "source": [
        "le = LabelEncoder()\n",
        "df[\"category_encoded\"] = le.fit_transform(df[\"category\"])\n",
        "# df.loc[:, \"category_encoded\"] = le.fit_transform(df[\"category\"]) -- same warning\n",
        "# df.loc[:, (\"category_encoded\",)] = le.fit_transform(df[\"category\"]) -- no warning\n",
        "# 0 is science, 1 is style, 2 is tech\n",
        "df.head()"
      ],
      "id": "0FO6oRmRAZN4"
    },
    {
      "cell_type": "markdown",
      "source": [
        "I think `SettingWithCopyWarning` on Pandas 2.2.2 here is a false positive. If you really want to avoid this warning, there is a way to do it shown above; somewhat unintuitive.\n"
      ],
      "metadata": {
        "id": "_knWjRI6AZN5"
      },
      "id": "_knWjRI6AZN5"
    },
    {
      "cell_type": "code",
      "execution_count": 12,
      "metadata": {
        "id": "Sc6tF2uTSA7T",
        "outputId": "d94889eb-bbc2-4c60-f034-5aa455d05b45",
        "colab": {
          "base_uri": "https://localhost:8080/"
        }
      },
      "outputs": [
        {
          "output_type": "execute_result",
          "data": {
            "text/plain": [
              "(6514, 3)"
            ]
          },
          "metadata": {},
          "execution_count": 12
        }
      ],
      "source": [
        "df.shape"
      ],
      "id": "Sc6tF2uTSA7T"
    },
    {
      "cell_type": "markdown",
      "metadata": {
        "id": "optional-single"
      },
      "source": [
        "Later, we'll be able to remember which integers correspond to which classes using the `classes_` attribute of the encoder."
      ],
      "id": "optional-single"
    },
    {
      "cell_type": "code",
      "execution_count": 13,
      "metadata": {
        "id": "amino-drama",
        "outputId": "eafa2809-4ff2-4103-b566-f055763a6925",
        "colab": {
          "base_uri": "https://localhost:8080/"
        }
      },
      "outputs": [
        {
          "output_type": "execute_result",
          "data": {
            "text/plain": [
              "array(['SCIENCE', 'STYLE', 'TECH'], dtype=object)"
            ]
          },
          "metadata": {},
          "execution_count": 13
        }
      ],
      "source": [
        "le.classes_"
      ],
      "id": "amino-drama"
    },
    {
      "cell_type": "markdown",
      "metadata": {
        "id": "stock-proposal"
      },
      "source": [
        "We're left with a much smaller number of rows, which will be much easier to work with.\n",
        "\n",
        "#### So Far....\n",
        "\n",
        "...we have accessed our data, examined the categories available, and taken a subset of the data corresponding to just three categories."
      ],
      "id": "stock-proposal"
    },
    {
      "cell_type": "markdown",
      "metadata": {
        "id": "continued-continuity"
      },
      "source": [
        "## TensorFlow Datasets\n",
        "\n",
        "Next, we are going create a TensorFlow `Dataset` from our data frame. While we often talk colloquially about \"data sets\", TensorFlow has a special `Dataset` class with a number of convenient capabilities. Use of `Dataset`s is generally optional, but can make it significantly easier to stay organized when writing data pipelines. The `Dataset` class also includes functionality for a wide-variety of data input scenarios, including situations in which the data should be read in chunks-at-a-time from disk. JAX (not used today) is focused on performance optimization, and does not come with a nice data loading functionalities. You can find TensorFlow `Dataset`s and PyTorch `DataLoader` helpful in those situations.\n",
        "\n",
        "The `Dataset` class is useful for all kinds of problems, not just text classification problems. Learn more about it [here](https://www.tensorflow.org/guide/data).\n",
        "\n",
        "We'll make a dataset with the predictor data (the headline) and target data (the category) separated out."
      ],
      "id": "continued-continuity"
    },
    {
      "cell_type": "markdown",
      "source": [],
      "metadata": {
        "id": "Udp3Pl45sX5r"
      },
      "id": "Udp3Pl45sX5r"
    },
    {
      "cell_type": "code",
      "execution_count": 16,
      "metadata": {
        "id": "excess-leisure"
      },
      "outputs": [],
      "source": [
        "import tensorflow as tf\n",
        "data = tf.data.Dataset.from_tensor_slices((df[\"headline\"], df[\"category_encoded\"]))\n",
        "# make tf dataset from df[\"headline\"], df[\"category_encoded\"]"
      ],
      "id": "excess-leisure"
    },
    {
      "cell_type": "code",
      "source": [
        "data"
      ],
      "metadata": {
        "id": "8WEM-4BDYfUP",
        "outputId": "d7e22af1-c01e-450a-bb3f-fe91ff1dae2e",
        "colab": {
          "base_uri": "https://localhost:8080/"
        }
      },
      "id": "8WEM-4BDYfUP",
      "execution_count": 17,
      "outputs": [
        {
          "output_type": "execute_result",
          "data": {
            "text/plain": [
              "<_TensorSliceDataset element_spec=(TensorSpec(shape=(), dtype=tf.string, name=None), TensorSpec(shape=(), dtype=tf.int64, name=None))>"
            ]
          },
          "metadata": {},
          "execution_count": 17
        }
      ]
    },
    {
      "cell_type": "code",
      "execution_count": 18,
      "metadata": {
        "id": "insured-establishment",
        "outputId": "1372d010-5888-466d-b7ef-b89f3132935c",
        "colab": {
          "base_uri": "https://localhost:8080/"
        }
      },
      "outputs": [
        {
          "output_type": "stream",
          "name": "stdout",
          "text": [
            "tf.Tensor(b'Facebook Accused Of Reading Texts And Accessing Microphones In Lawsuit', shape=(), dtype=string)\n",
            "tf.Tensor(2, shape=(), dtype=int64)\n",
            "\n",
            "tf.Tensor(b'Self-Driving Uber In Fatal Accident Had 6 Seconds To React Before Crash', shape=(), dtype=string)\n",
            "tf.Tensor(2, shape=(), dtype=int64)\n",
            "\n",
            "tf.Tensor(b'Scientists Turn To DNA Technology To Search For Loch Ness Monster', shape=(), dtype=string)\n",
            "tf.Tensor(0, shape=(), dtype=int64)\n",
            "\n",
            "tf.Tensor(b\"Instagram Is Adding A 'Mute' Button For The Sake Of Your Sanity\", shape=(), dtype=string)\n",
            "tf.Tensor(2, shape=(), dtype=int64)\n",
            "\n",
            "tf.Tensor(b'Unusual Asteroid Could Be An Interstellar Guest To Our Solar System', shape=(), dtype=string)\n",
            "tf.Tensor(0, shape=(), dtype=int64)\n",
            "\n"
          ]
        }
      ],
      "source": [
        "for headline, category in data.take(5):\n",
        "    print(headline)\n",
        "    print(category)\n",
        "    print(\"\")"
      ],
      "id": "insured-establishment"
    },
    {
      "cell_type": "markdown",
      "metadata": {
        "id": "fixed-letters"
      },
      "source": [
        "Now we'll perform a train-test split. We'll also take out a small validation set."
      ],
      "id": "fixed-letters"
    },
    {
      "cell_type": "code",
      "execution_count": null,
      "metadata": {
        "id": "egyptian-yahoo"
      },
      "outputs": [],
      "source": [
        "data = data.shuffle(len(data), reshuffle_each_iteration=False)"
      ],
      "id": "egyptian-yahoo"
    },
    {
      "cell_type": "code",
      "execution_count": 19,
      "metadata": {
        "id": "usual-entity"
      },
      "outputs": [],
      "source": [
        "train_size = int(0.7*len(data)) # 70% for training\n",
        "val_size   = int(0.1*len(data)) # 10% for validation\n",
        "# 20% for test\n",
        "\n",
        "train = data.take(train_size)\n",
        "val   = data.skip(train_size).take(val_size)\n",
        "test  = data.skip(train_size + val_size)"
      ],
      "id": "usual-entity"
    },
    {
      "cell_type": "code",
      "execution_count": 20,
      "metadata": {
        "id": "generous-nickname",
        "outputId": "06c9fdc6-dbb3-447c-f0c9-58ad1450bff8",
        "colab": {
          "base_uri": "https://localhost:8080/"
        }
      },
      "outputs": [
        {
          "output_type": "execute_result",
          "data": {
            "text/plain": [
              "(4559, 651, 1304)"
            ]
          },
          "metadata": {},
          "execution_count": 20
        }
      ],
      "source": [
        "len(train), len(val), len(test)"
      ],
      "id": "generous-nickname"
    },
    {
      "cell_type": "markdown",
      "metadata": {
        "id": "devoted-poster"
      },
      "source": [
        "#### So far....\n",
        "\n",
        "...we have created a special TensorFlow `Dataset` and split it into training, validation, and testing sets."
      ],
      "id": "devoted-poster"
    },
    {
      "cell_type": "markdown",
      "source": [
        "1. what could preprocessing mean?\n",
        "- make everything lowercase\n",
        "- processign foreign language\n",
        "- remove punctuation, specific numbers, urls/html tags, common words (and, like, the)\n",
        "- lemmatization (e.g. organizes, organizing, organize) -> all same organize\n",
        "\n",
        "2. how turn words into numbers?\n",
        "- number token:\n",
        "\"I love matcha drinks\" -> [1,2.3, 3, 4]\n",
        "\n",
        "- word-document matrix, term-document matrix -> element in row i and col j = number of time word i appears in document j\n",
        "\n",
        "- convert every char into a number based on ASCII table\n",
        "\n",
        "- Assign 0,1,2,3.. to every unique word that appears in the dataset (more frequent words higher num)\n",
        "\n",
        "We will assign values to words based on the freq they show in text.\n"
      ],
      "metadata": {
        "id": "bNcanZKgt4f0"
      },
      "id": "bNcanZKgt4f0"
    },
    {
      "cell_type": "markdown",
      "metadata": {
        "id": "acquired-diagram"
      },
      "source": [
        "## Standardization and Vectorization\n",
        "\n",
        "*Standardization* refers to the act of taking a some text that's \"messy\" in some way and making it less messy. Common standardizations include:\n",
        "\n",
        "- Removing capitals.\n",
        "- Removing punctuation.\n",
        "- Removing HTML elements or other non-semantic content.\n",
        "\n",
        "In this standardization, we convert all text to lowercase and remove punctuation."
      ],
      "id": "acquired-diagram"
    },
    {
      "cell_type": "code",
      "execution_count": 23,
      "metadata": {
        "id": "lonely-delicious"
      },
      "outputs": [],
      "source": [
        "def standardization(input_data):\n",
        "    lowercase = tf.strings.lower(input_data)\n",
        "    no_punctuation = tf.strings.regex_replace(lowercase,\n",
        "                                  '[%s]' % re.escape(string.punctuation),'')\n",
        "    return no_punctuation"
      ],
      "id": "lonely-delicious"
    },
    {
      "cell_type": "code",
      "source": [
        "print(re.escape(string.punctuation))"
      ],
      "metadata": {
        "id": "eQDJiQwbaLwb",
        "outputId": "a7166643-f2ab-4b44-df67-cc0c31ca2d30",
        "colab": {
          "base_uri": "https://localhost:8080/"
        }
      },
      "id": "eQDJiQwbaLwb",
      "execution_count": 24,
      "outputs": [
        {
          "output_type": "stream",
          "name": "stdout",
          "text": [
            "!\"\\#\\$%\\&'\\(\\)\\*\\+,\\-\\./:;<=>\\?@\\[\\\\\\]\\^_`\\{\\|\\}\\~\n"
          ]
        }
      ]
    },
    {
      "cell_type": "code",
      "source": [
        "max_token = 2000 # top 2000 distinct words will be tracked\n",
        "vectorization = TextVectorization(standardize = standardization, # remove all puncuation using regerx\n",
        "                  output_mode = 'int',\n",
        "                  max_token = max_token,\n",
        "                 output_sequence_length= sequence_length\n",
        "                 )"
      ],
      "metadata": {
        "id": "TuWavPg0vOyr",
        "outputId": "fcbf2a82-b29a-4116-b8fc-c5e5a08d7414",
        "colab": {
          "base_uri": "https://localhost:8080/",
          "height": 198
        }
      },
      "id": "TuWavPg0vOyr",
      "execution_count": 25,
      "outputs": [
        {
          "output_type": "error",
          "ename": "NameError",
          "evalue": "name 'sequence_length' is not defined",
          "traceback": [
            "\u001b[0;31m---------------------------------------------------------------------------\u001b[0m",
            "\u001b[0;31mNameError\u001b[0m                                 Traceback (most recent call last)",
            "\u001b[0;32m<ipython-input-25-aa9a8c2f7c97>\u001b[0m in \u001b[0;36m<cell line: 0>\u001b[0;34m()\u001b[0m\n\u001b[1;32m      3\u001b[0m                   \u001b[0moutput_mode\u001b[0m \u001b[0;34m=\u001b[0m \u001b[0;34m'int'\u001b[0m\u001b[0;34m,\u001b[0m\u001b[0;34m\u001b[0m\u001b[0;34m\u001b[0m\u001b[0m\n\u001b[1;32m      4\u001b[0m                   \u001b[0mmax_token\u001b[0m \u001b[0;34m=\u001b[0m \u001b[0mmax_token\u001b[0m\u001b[0;34m,\u001b[0m\u001b[0;34m\u001b[0m\u001b[0;34m\u001b[0m\u001b[0m\n\u001b[0;32m----> 5\u001b[0;31m                  \u001b[0moutput_sequence_length\u001b[0m\u001b[0;34m=\u001b[0m \u001b[0msequence_length\u001b[0m\u001b[0;34m\u001b[0m\u001b[0;34m\u001b[0m\u001b[0m\n\u001b[0m\u001b[1;32m      6\u001b[0m                  )\n",
            "\u001b[0;31mNameError\u001b[0m: name 'sequence_length' is not defined"
          ]
        }
      ]
    },
    {
      "cell_type": "markdown",
      "metadata": {
        "id": "polish-painting"
      },
      "source": [
        "*Vectorization* refers to the process of representing text as a vector (array, tensor). There are multiple ways to carry out vectorization. For example, forming a *term-document matrix*, as demonstrated in the optional review lecture notes, is one way to form vectors from text. Here, we'll use a different approach: we'll replace each word by its *frequency rank* in the data. For example, the headline\n",
        "\n",
        "> Poll: Penguins Best Bird\n",
        "\n",
        "might have representation\n",
        "\n",
        "```[708, 1567, 89, 632].```\n",
        "\n",
        "This means that \"poll\" is the 708th most common word in the data set, \"penguins\" is the 1567 most common word in the data set, and so on.  \n",
        "\n",
        "For technical details on how TensorFlow carries out the vectorization, check [the docs](https://www.tensorflow.org/api_docs/python/tf/keras/layers/experimental/preprocessing/TextVectorization). Note that we pass the standardization from above as an argument to the vectorization layer.  "
      ],
      "id": "polish-painting"
    },
    {
      "cell_type": "code",
      "execution_count": null,
      "metadata": {
        "id": "after-receipt"
      },
      "outputs": [],
      "source": [
        "# only the top distinct words will be tracked\n",
        "max_tokens = 2000\n",
        "\n",
        "# each headline will be a vector of length 25\n",
        "sequence_length = 25\n",
        "\n",
        "vectorize_layer = TextVectorization(\n",
        "    standardize=standardization,\n",
        "    max_tokens=max_tokens, # only consider this many words\n",
        "    output_mode='int',\n",
        "    output_sequence_length=sequence_length)"
      ],
      "id": "after-receipt"
    },
    {
      "cell_type": "markdown",
      "metadata": {
        "id": "assumed-frederick"
      },
      "source": [
        "We need to *adapt* the vectorization layer to the headlines. In the adaptation process, the vectorization layer learns what words are common in the headlines."
      ],
      "id": "assumed-frederick"
    },
    {
      "cell_type": "code",
      "execution_count": null,
      "metadata": {
        "id": "bridal-reserve"
      },
      "outputs": [],
      "source": [
        "headlines = train.map(lambda x, y: x)\n",
        "vectorize_layer.adapt(headlines)"
      ],
      "id": "bridal-reserve"
    },
    {
      "cell_type": "markdown",
      "metadata": {
        "id": "absent-mississippi"
      },
      "source": [
        "Now we're ready to vectorize each of the data sets. To do so, we define a helper function that operates on our Datasets. Note that our Dataset consists of a bunch of tuples of the form (headline, category) for each data observation. Our helper function therefore accepts and returns two variables.\n",
        "\n",
        "**Note**: because we adapted the vectorization layer to the training data, not the validation or testing data, we aren't \"cheating\" by propagating information from the validation or testing data prior to the training step."
      ],
      "id": "absent-mississippi"
    },
    {
      "cell_type": "code",
      "execution_count": null,
      "metadata": {
        "id": "infrared-agent"
      },
      "outputs": [],
      "source": [
        "def vectorize_headline(text, label):\n",
        "    text = tf.expand_dims(text, -1)\n",
        "    return vectorize_layer(text), [label]\n",
        "\n",
        "train_vec = train.map(vectorize_headline)\n",
        "val_vec   = val.map(vectorize_headline)\n",
        "test_vec  = test.map(vectorize_headline)"
      ],
      "id": "infrared-agent"
    },
    {
      "cell_type": "code",
      "execution_count": null,
      "metadata": {
        "id": "u-EEurJ6zsc5"
      },
      "outputs": [],
      "source": [
        "vectorize_layer.get_vocabulary()"
      ],
      "id": "u-EEurJ6zsc5"
    },
    {
      "cell_type": "markdown",
      "metadata": {
        "id": "electric-azerbaijan"
      },
      "source": [
        "Let's take a look at a vectorized piece of text."
      ],
      "id": "electric-azerbaijan"
    },
    {
      "cell_type": "code",
      "source": [
        "for h, c in train.take(3):\n",
        "  print(h)\n",
        "  print(vectorize_layer(h))"
      ],
      "metadata": {
        "id": "v-7p4-PFcXsY"
      },
      "id": "v-7p4-PFcXsY",
      "execution_count": null,
      "outputs": []
    },
    {
      "cell_type": "markdown",
      "metadata": {
        "id": "worth-rebate"
      },
      "source": [
        "#### So far...\n",
        "\n",
        "...we have finally prepared our data! We have represented each of our headlines as numerical vectors, which are something that TensorFlow is able to understand."
      ],
      "id": "worth-rebate"
    },
    {
      "cell_type": "markdown",
      "metadata": {
        "id": "conservative-visibility"
      },
      "source": [
        "## Modeling\n",
        "\n",
        "Phew, that was a lot of data preparation! That's kind of how it is in the world of machine learning: so much of the effort goes into ensuring that your data is correctly formatted and represented.\n",
        "\n",
        "Let's now construct a simple model out of some layers. This model is going to have a few new components.\n",
        "\n",
        "The most interesting of these, which we are going to come back to, is the `Embedding` layer. Because we're going to come back to it, let's give it a name!"
      ],
      "id": "conservative-visibility"
    },
    {
      "cell_type": "code",
      "execution_count": null,
      "metadata": {
        "id": "empty-european"
      },
      "outputs": [],
      "source": [
        "model = keras.Sequential([\n",
        "  layers.Input((sequence_length,)),\n",
        "  layers.Embedding(max_tokens, output_dim = 3, name=\"embedding\"),\n",
        "  layers.Dropout(0.2),\n",
        "  layers.GlobalAveragePooling1D(),\n",
        "  layers.Dropout(0.2),\n",
        "  layers.Dense(30),\n",
        "  layers.Dropout(0.2),\n",
        "  layers.Dense(30),\n",
        "  layers.Dropout(0.2),\n",
        "  layers.Dense(len(categories))\n",
        "  ]\n",
        ")"
      ],
      "id": "empty-european"
    },
    {
      "cell_type": "markdown",
      "metadata": {
        "id": "piano-prior"
      },
      "source": [
        "We use `Dropout` layers in the model. What these layers do is disable (\"drop out\") a fixed percentage of the units in each layer, *but only during training.* This turns out to be a good way to reduce the risk of overfitting."
      ],
      "id": "piano-prior"
    },
    {
      "cell_type": "code",
      "execution_count": null,
      "metadata": {
        "id": "broke-minority"
      },
      "outputs": [],
      "source": [
        "model.compile(loss=losses.SparseCategoricalCrossentropy(from_logits=True),\n",
        "              optimizer='adam',\n",
        "              metrics=['accuracy'])"
      ],
      "id": "broke-minority"
    },
    {
      "cell_type": "code",
      "source": [
        "model.summary()"
      ],
      "metadata": {
        "id": "QsB_Gtl-nmLH"
      },
      "id": "QsB_Gtl-nmLH",
      "execution_count": null,
      "outputs": []
    },
    {
      "cell_type": "markdown",
      "metadata": {
        "id": "corrected-difference"
      },
      "source": [
        "It's time to fit our model."
      ],
      "id": "corrected-difference"
    },
    {
      "cell_type": "markdown",
      "source": [
        "But wait! Throughout deep learning lectures, we have seen that just minimizing the loss would result in overfitting. How do we avoid it?\n",
        "\n",
        "We have a simple idea of __early stopping__. When the performance on the validation set no longer improves for several epochs, we stop training there. Then, we have a model performing reasonably on both the training set and the validation set."
      ],
      "metadata": {
        "id": "pa_BiJ5djtTO"
      },
      "id": "pa_BiJ5djtTO"
    },
    {
      "cell_type": "code",
      "source": [
        "callback = keras.callbacks.EarlyStopping(monitor='val_loss', patience=3)"
      ],
      "metadata": {
        "id": "pqEBuvuNjrgp"
      },
      "id": "pqEBuvuNjrgp",
      "execution_count": null,
      "outputs": []
    },
    {
      "cell_type": "code",
      "execution_count": null,
      "metadata": {
        "id": "assumed-secretariat"
      },
      "outputs": [],
      "source": [
        "history = model.fit(train_vec, epochs = 20, validation_data = val_vec,\n",
        "                    callbacks=[callback])"
      ],
      "id": "assumed-secretariat"
    },
    {
      "cell_type": "code",
      "execution_count": null,
      "metadata": {
        "id": "forbidden-traveler"
      },
      "outputs": [],
      "source": [
        "from matplotlib import pyplot as plt\n",
        "plt.plot(history.history[\"accuracy\"], label = \"training\")\n",
        "plt.plot(history.history[\"val_accuracy\"], label = \"validation\")\n",
        "plt.gca().set(xlabel = \"epoch\", ylabel = \"accuracy\")\n",
        "plt.legend()"
      ],
      "id": "forbidden-traveler"
    },
    {
      "cell_type": "code",
      "source": [
        "from matplotlib import pyplot as plt\n",
        "plt.plot(history.history[\"loss\"], label = \"training\")\n",
        "plt.plot(history.history[\"val_loss\"], label = \"validation\")\n",
        "plt.gca().set(xlabel = \"epoch\", ylabel = \"loss\")\n",
        "plt.legend()"
      ],
      "metadata": {
        "id": "lMIoV0uKthVS"
      },
      "id": "lMIoV0uKthVS",
      "execution_count": null,
      "outputs": []
    },
    {
      "cell_type": "markdown",
      "metadata": {
        "id": "burning-board"
      },
      "source": [
        "# Predictions on Unseen Data\n",
        "\n",
        "Let's check our model performance on unseen data."
      ],
      "id": "burning-board"
    },
    {
      "cell_type": "code",
      "execution_count": null,
      "metadata": {
        "id": "canadian-serbia"
      },
      "outputs": [],
      "source": [
        "model.evaluate(test_vec)"
      ],
      "id": "canadian-serbia"
    },
    {
      "cell_type": "markdown",
      "metadata": {
        "id": "comic-fleece"
      },
      "source": [
        "Not bad! We're able to correctly classify the category of a given news headline on HuffPost 85-86% of the time, at least when we are choosing between the three categories that we selected earlier."
      ],
      "id": "comic-fleece"
    },
    {
      "cell_type": "markdown",
      "metadata": {
        "id": "suburban-porter"
      },
      "source": [
        "### So far...\n",
        "\n",
        "...we have trained our model and evaluated it on unseen data, obtaining reasonable results."
      ],
      "id": "suburban-porter"
    },
    {
      "cell_type": "markdown",
      "metadata": {
        "id": "compatible-condition"
      },
      "source": [
        "# Embeddings\n",
        "\n",
        "A *word embedding* refers to a representation of a word in a vector space. Each word is assigned an individual vector. The general aim of a word embedding is to create a representation such that words with related meanings are close to each other in a vector space, while words with different meanings are farther apart. One usually hopes for the *directions* connecting words to be meaningful as well. Here's a nice diagram illustrating some of the general concepts:\n",
        "\n",
        "![](https://miro.medium.com/max/1838/1*OEmWDt4eztOcm5pr2QbxfA.png)\n",
        "\n",
        "*Image credit: [Towards Data Science](https://towardsdatascience.com/creating-word-embeddings-coding-the-word2vec-algorithm-in-python-using-deep-learning-b337d0ba17a8)*\n",
        "\n",
        "Word embeddings are often produced as intermediate stages in many machine learning algorithms. In fact, we already made one -- it's the `Embedding` layer at the base of our model. Let's take a look at the embedding layer to see how our own model represents words in a vector space.\n",
        "\n",
        "We chose to create a 3-dimensional embedding when constructing our model. This is fine for today, but state-of-the-art embeddings will typically have a much higher number of dimensions.  For example, the [Embedding Projector demo](http://projector.tensorflow.org/) supplied by TensorFlow uses a default dimension of 200."
      ],
      "id": "compatible-condition"
    },
    {
      "cell_type": "code",
      "execution_count": null,
      "metadata": {
        "id": "light-verse"
      },
      "outputs": [],
      "source": [
        "weights = model.get_layer('embedding').get_weights()[0] # get the weights from the embedding layer\n",
        "vocab = vectorize_layer.get_vocabulary()                # get the vocabulary from our data prep for later"
      ],
      "id": "light-verse"
    },
    {
      "cell_type": "code",
      "execution_count": null,
      "metadata": {
        "id": "9JSJNHbvBSia"
      },
      "outputs": [],
      "source": [
        "weights = model.get_layer('embedding').get_weights()[0]"
      ],
      "id": "9JSJNHbvBSia"
    },
    {
      "cell_type": "code",
      "execution_count": null,
      "metadata": {
        "id": "appropriate-crossing"
      },
      "outputs": [],
      "source": [
        "weights.shape"
      ],
      "id": "appropriate-crossing"
    },
    {
      "cell_type": "markdown",
      "metadata": {
        "id": "early-render"
      },
      "source": [
        "The collection of weights is 3-dimensional. For plotting in 2 dimensions, we have several choices for how to reduce the data to a 2d representation. A very simple and standard approach is our friend, principal component analysis (PCA)."
      ],
      "id": "early-render"
    },
    {
      "cell_type": "code",
      "execution_count": null,
      "metadata": {
        "id": "local-vintage"
      },
      "outputs": [],
      "source": [
        "from sklearn.decomposition import PCA\n",
        "pca = PCA(n_components=2)\n",
        "weights = pca.fit_transform(weights)"
      ],
      "id": "local-vintage"
    },
    {
      "cell_type": "markdown",
      "metadata": {
        "id": "characteristic-cradle"
      },
      "source": [
        "Now we'll make a data frame from our results:"
      ],
      "id": "characteristic-cradle"
    },
    {
      "cell_type": "code",
      "execution_count": null,
      "metadata": {
        "id": "clear-visiting"
      },
      "outputs": [],
      "source": [
        "embedding_df = pd.DataFrame({\n",
        "    'word' : vocab,\n",
        "    'x0'   : weights[:,0],\n",
        "    'x1'   : weights[:,1]\n",
        "})\n",
        "embedding_df"
      ],
      "id": "clear-visiting"
    },
    {
      "cell_type": "markdown",
      "metadata": {
        "id": "impaired-tunnel"
      },
      "source": [
        "Ready to plot! Note that the embedding appear to be \"stretched out\" in three directions, with one direction corresponding to each of the three categories (tech, style, science)."
      ],
      "id": "impaired-tunnel"
    },
    {
      "cell_type": "code",
      "execution_count": null,
      "metadata": {
        "id": "horizontal-auction",
        "scrolled": true
      },
      "outputs": [],
      "source": [
        "import plotly.express as px\n",
        "fig = px.scatter(embedding_df,\n",
        "                 x = \"x0\",\n",
        "                 y = \"x1\",\n",
        "                 size = list(np.ones(len(embedding_df))),\n",
        "                 size_max = 3,\n",
        "                 hover_name = \"word\")\n",
        "\n",
        "fig.show()"
      ],
      "id": "horizontal-auction"
    },
    {
      "cell_type": "markdown",
      "metadata": {
        "id": "theoretical-sweden"
      },
      "source": [
        "Cool, we made a word embedding! This embedding seems to have learned some reasonable associations. For example, we see that words like \"Mars\", \"NASA\", and \"space\" are relatively close to each other. So are \"Facebook\", \"Google\", and \"Apple\", as well as \"fashion\", \"dress\", and \"style.\"\n",
        "\n",
        "## Bias in Language Models\n",
        "\n",
        "Whenever we create a machine learning model that might conceivably have impact on the thoughts or actions of human beings, we have a responsibility to understand the limitations and biases of that model. Biases can enter into machine learning models through several routes, including the data used as well as choices made by the modeler along the way. For example, in our case:\n",
        "\n",
        "1. **Data**: we used data from a popular news source.\n",
        "2. **Modeler choice**: we only used data corresponding to a certain subset of labels.\n",
        "\n",
        "With these considerations in mind, let's see what kinds of words our model associates with female and male genders."
      ],
      "id": "theoretical-sweden"
    },
    {
      "cell_type": "code",
      "execution_count": null,
      "metadata": {
        "id": "golden-bookmark"
      },
      "outputs": [],
      "source": [
        "feminine = [\"she\", \"her\", \"woman\"]\n",
        "masculine = [\"he\", \"him\", \"man\"]\n",
        "\n",
        "highlight_1 = [\"strong\", \"powerful\", \"smart\",     \"thinking\"]\n",
        "highlight_2 = [\"hot\",    \"sexy\",     \"beautiful\", \"shopping\"]\n",
        "\n",
        "def gender_mapper(x):\n",
        "    if x in feminine:\n",
        "        return 1\n",
        "    elif x in masculine:\n",
        "        return 4\n",
        "    elif x in highlight_1:\n",
        "        return 3\n",
        "    elif x in highlight_2:\n",
        "        return 2\n",
        "    else:\n",
        "        return 0\n",
        "\n",
        "embedding_df[\"highlight\"] = embedding_df[\"word\"].apply(gender_mapper)\n",
        "embedding_df[\"size\"]      = np.array(1.0 + 50*(embedding_df[\"highlight\"] > 0))"
      ],
      "id": "golden-bookmark"
    },
    {
      "cell_type": "code",
      "execution_count": null,
      "metadata": {
        "id": "social-motorcycle"
      },
      "outputs": [],
      "source": [
        "import plotly.express as px\n",
        "\n",
        "fig = px.scatter(embedding_df,\n",
        "                 x = \"x0\",\n",
        "                 y = \"x1\",\n",
        "                 color = \"highlight\",\n",
        "                 size = list(embedding_df[\"size\"]),\n",
        "                 size_max = 10,\n",
        "                 hover_name = \"word\")\n",
        "\n",
        "fig.show()"
      ],
      "id": "social-motorcycle"
    },
    {
      "cell_type": "markdown",
      "metadata": {
        "id": "chemical-thinking"
      },
      "source": [
        "Our text classification model's word embedding is unambiguously sexist.\n",
        "\n",
        "- Words like \"hot\", \"sexy\", and \"shopping\" are more closely located to feminine words like \"she\", \"her\", and \"woman\".\n",
        "- Words like \"strong\", \"smart\", and \"thinking\" are more closely located to masculine words like \"he\", \"him\", and \"man\".\n",
        "\n",
        "Where did these biases come from?\n",
        "\n",
        "- The primary source is the data itself: HuffPost headlines in certain categories can be highly gendered, and the \"Style\" category is an example of this.\n",
        "- A secondary source is the choices that I made as a modeler. In particular, I intentionally chose categories that would emphasize biases in the data and make them easy to visualize.\n",
        "\n",
        "While I could have made different choices and obtained different results, this episode highlights a fundamental set of questions usually underexamined in contemporary machine learning:\n",
        "\n",
        "- What biases are built into my data source?\n",
        "- How do my choices about which data to use influence the biases present in my model?\n",
        "\n",
        "For more on the topic of bias in language models, you may wish to read the now-infamous paper by Emily Bender, Angelina McMillan-Major, Timnt Gebru, and \"Shmargret Shmitchell\" (Margret Mitchell), \"[On the Dangers of Stochastic Parrots](https://faculty.washington.edu/ebender/papers/Stochastic_Parrots.pdf).\" This is the paper that ultimately led to the firing of the final two authors by Google in late 2020 and early 2021."
      ],
      "id": "chemical-thinking"
    },
    {
      "cell_type": "code",
      "source": [],
      "metadata": {
        "id": "BnmgRdDUj4aW"
      },
      "id": "BnmgRdDUj4aW",
      "execution_count": null,
      "outputs": []
    }
  ],
  "metadata": {
    "accelerator": "GPU",
    "colab": {
      "provenance": [],
      "include_colab_link": true
    },
    "kernelspec": {
      "display_name": "Python 3",
      "name": "python3"
    },
    "language_info": {
      "name": "python"
    }
  },
  "nbformat": 4,
  "nbformat_minor": 5
}